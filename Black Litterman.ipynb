{
 "cells": [
  {
   "cell_type": "code",
   "execution_count": 2,
   "metadata": {
    "collapsed": true
   },
   "outputs": [],
   "source": [
    "import numpy as np\n",
    "import pandas as pd\n",
    "import scipy.optimize\n",
    "import math\n",
    "import quantopian.research\n",
    "from quantopian.pipeline.data import Fundamentals\n",
    "from quantopian.pipeline import Pipeline, CustomFilter\n",
    "import matplotlib.pyplot as plt\n",
    "import seaborn as sns"
   ]
  },
  {
   "cell_type": "code",
   "execution_count": 3,
   "metadata": {
    "collapsed": true
   },
   "outputs": [],
   "source": [
    "def compute_mean(W, R):\n",
    "    \"\"\"\n",
    "    Computes the expected return of a portfolio \n",
    "    Requires: List of asset weights and list of asset expected returns\n",
    "    \"\"\"\n",
    "    mean=np.sum(W*R)\n",
    "    return mean\n",
    "\n",
    "def compute_var(W, C):\n",
    "    \"\"\"\n",
    "    Computes the variance of a portfolio \n",
    "    Requires: List of asset weights and asset covariance matrix\n",
    "    \"\"\"\n",
    "    var= np.dot(np.dot(W,C), W) \n",
    "    return var\n",
    "\n",
    "def mean_var(W, R, C):\n",
    "    \"\"\"\n",
    "    Calculates portfolio expected return and variance\n",
    "    Requires: List of weights, list of asset expected returns, and asset covariance matrix.\n",
    "    \"\"\"\n",
    "    mean= compute_mean(W,R)\n",
    "    var= compute_var(W,C)\n",
    "    return mean, var"
   ]
  },
  {
   "cell_type": "code",
   "execution_count": 4,
   "metadata": {
    "collapsed": true
   },
   "outputs": [],
   "source": [
    "def market_cap(price, shares_outstanding):\n",
    "    return price*shares_outstanding"
   ]
  },
  {
   "cell_type": "code",
   "execution_count": 5,
   "metadata": {
    "collapsed": true
   },
   "outputs": [],
   "source": [
    "def sharpe_ratio(W, R, C, Rf):\n",
    "    \"\"\"\n",
    "    Calculates a sharpe ratio of a portfolio\n",
    "    Requires: Portfolio weights, list of asset returns, asset covariance matrix, risk free rate\n",
    "    Sharpe ratio = (Mean portfolio return − Risk-free rate)/Standard deviation of portfolio return.\n",
    "\n",
    "    \"\"\"\n",
    "    mean, var= mean_var(W, R, C) \n",
    "    return (mean- Rf)/ np.sqrt(var)"
   ]
  },
  {
   "cell_type": "code",
   "execution_count": 6,
   "metadata": {
    "collapsed": true
   },
   "outputs": [],
   "source": [
    "def sharpe(mean, std, rf):\n",
    "    \"\"\"\n",
    "    Sharpe ratio = (Mean portfolio return − Risk-free rate)/Standard deviation of portfolio return.\n",
    "\n",
    "    \"\"\"\n",
    "    return (mean- rf)/std"
   ]
  },
  {
   "cell_type": "code",
   "execution_count": 7,
   "metadata": {
    "collapsed": true
   },
   "outputs": [],
   "source": [
    "def w_fitness(W, R, C, Rf):\n",
    "    if sharpe_ratio(W, R, C, Rf) < 0: \n",
    "        return 1000000000000\n",
    "    else: \n",
    "        return 1/sharpe_ratio(W, R, C, Rf)"
   ]
  },
  {
   "cell_type": "code",
   "execution_count": 8,
   "metadata": {
    "collapsed": true
   },
   "outputs": [],
   "source": [
    "def solve_weights(R, C, Rf, low=0., high=1): \n",
    "    \"\"\"\n",
    "    Optimizes the list of assets using mean variance optimization, \n",
    "    Requires: expected returns, covariance matrix, risk free rate,\n",
    "    low and high for upper and lower bounds for weight\n",
    "    \"\"\"\n",
    "    n= len(R)\n",
    "    W= np.ones([n])/n\n",
    "    b_=[(low, high) for i in range(n)] \n",
    "    c_ = ({'type':'eq', 'fun': lambda W: sum(W)-1. }) \n",
    "    optimized = scipy.optimize.minimize(w_fitness, W, (R, C, Rf), method='SLSQP', constraints=c_, bounds=b_)\n",
    "    if not optimized.success: #copied\n",
    "        raise BaseException(optimized.message)\n",
    "    return optimized.x"
   ]
  },
  {
   "cell_type": "code",
   "execution_count": 9,
   "metadata": {
    "collapsed": true
   },
   "outputs": [],
   "source": [
    "def solve_frontier(R, C, RF):\n",
    "    def fitness(W, R, C, r):\n",
    "        mean, var= mean_var(W, R, C)\n",
    "        penalty= 100*abs(mean-r)\n",
    "        return var+ penalty\n",
    "    frontier_mean= []\n",
    "    frontier_var= []\n",
    "    n= len(R)\n",
    "    for r in np.linspace(min(R), max (R), num= 20):\n",
    "        W = np.ones([n]) / n  # start optimization with equal weights\n",
    "        b_ = [(0, 1) for i in range(n)]\n",
    "        c_ = ({'type': 'eq', 'fun': lambda W: np.sum(W) - 1.})\n",
    "        optimized = scipy.optimize.minimize(fitness, W, (R, C, r), method='SLSQP', constraints=c_, bounds=b_)\n",
    "        if not optimized.success:\n",
    "            raise BaseException(optimized.message)\n",
    "        frontier_mean.append(r)\n",
    "        frontier_var.append(compute_var(optimized.x, C))\n",
    "    return np.array(frontier_mean), np.array(frontier_var)"
   ]
  },
  {
   "cell_type": "code",
   "execution_count": 10,
   "metadata": {
    "collapsed": true
   },
   "outputs": [],
   "source": [
    "def optimize_frontier(R, C, rf):\n",
    "    W = solve_weights(R, C, rf)\n",
    "    tan_mean, tan_var = mean_var(W, R, C)  # calculate tangency portfolio\n",
    "    front_mean, front_var = solve_frontier(R, C, rf)  # calculate efficient frontier\n",
    "    result= {'weights': W, 'tangent_mean': tan_mean,'tangent_variance': tan_var}\n",
    "    # Weights, Tangency portfolio asset means and variances\n",
    "    return result, front_mean, front_var"
   ]
  },
  {
   "cell_type": "code",
   "execution_count": 11,
   "metadata": {
    "collapsed": true
   },
   "outputs": [],
   "source": [
    "def assetmeanvar(returns):  \n",
    "    \"\"\"\n",
    "    Calculates the expected return and covariance matrix of the dataframe. \n",
    "    Requires: the returns dataframe.\n",
    "    \"\"\"\n",
    "    covars=np.cov(np.matrix(returns).T)*250\n",
    "    (rows, cols)= np.shape(returns)\n",
    "    expectedreturns= np.array([])\n",
    "    for i in range(cols):\n",
    "        expectedreturns=np.append(expectedreturns,(1+np.mean(returns.iloc[:,i]))**250-1)\n",
    "    return covars, expectedreturns\n",
    "    "
   ]
  },
  {
   "cell_type": "code",
   "execution_count": 12,
   "metadata": {
    "collapsed": true
   },
   "outputs": [],
   "source": [
    "def weightsbymarketcap(returns, market_cap): \n",
    "    \"\"\"\n",
    "    Calculates the weights by market cap. \n",
    "    Requires: returns dataframe and the assets' respective market cap.\n",
    "    \"\"\"\n",
    "    W=np.array([])\n",
    "    total=0\n",
    "    for column in returns.columns:\n",
    "        total+= market_cap[column]\n",
    "    for column in returns.columns:\n",
    "        W=np.append(W, market_cap[column]/total)\n",
    "    return W"
   ]
  },
  {
   "cell_type": "code",
   "execution_count": 13,
   "metadata": {
    "collapsed": true
   },
   "outputs": [],
   "source": [
    "def views_and_links(views, markcap, returns_columns):\n",
    "    \"\"\"\n",
    "    Takes in a list of views to create a views vector. \n",
    "    Creates a links matrix that matches with the views vector, while accounting for market cap weights.\n",
    "    Requires: list of views, dictionary of assets and their market caps, returns dataframe's column names\n",
    "    \"\"\"\n",
    "    row, col = len(views), len(returns_columns)\n",
    "    location= []\n",
    "    Q= []\n",
    "    for i in range(row): #finding the index for the > and < signs to divide the list between the greater and lesser sides.\n",
    "        Q.append(views[i][-1])\n",
    "        try:\n",
    "            location.append(views[i].index('>'))\n",
    "        except Exception:\n",
    "            pass\n",
    "        try:\n",
    "            location.append(views[i].index('<'))\n",
    "        except Exception:\n",
    "            pass\n",
    "    P = np.zeros([row, col])\n",
    "    returnsindex=dict()\n",
    "    for i, n in enumerate(returns_columns): #used to match the asset\n",
    "        returnsindex[n]= i\n",
    "    for i, v in enumerate(views):\n",
    "        front=[]\n",
    "        back=[]\n",
    "        ftotal=0\n",
    "        btotal=0\n",
    "        for z in range(location[i]):\n",
    "            x=views[i][z]\n",
    "            front.append(x)\n",
    "            ftotal+=markcap[x]\n",
    "        for name in front:\n",
    "            if views[i][location[i]]=='>': # match the link with the column index of the asset\n",
    "                P[i, returnsindex[name]]= markcap[name]/ftotal #accounting for market cap weight on the greater side\n",
    "            else:\n",
    "                P[i, returnsindex[name]]= (markcap[name]*-1)/ftotal#accounting for market cap weight on the lesser side\n",
    "        for z in range(location[i]+1,len(views[i])-1):\n",
    "            x=views[i][z]\n",
    "            back.append(x)\n",
    "            btotal+=markcap[x]\n",
    "        for name in back:\n",
    "            if views[i][location[i]]=='<':\n",
    "                P[i, returnsindex[name]]= markcap[name]/btotal #accounting for market cap weight on the greater side\n",
    "            else:\n",
    "                P[i, returnsindex[name]]= (markcap[name]*-1)/btotal#accounting for market cap weight on the lesser side\n",
    "    return np.array(Q), P"
   ]
  },
  {
   "cell_type": "code",
   "execution_count": 14,
   "metadata": {
    "collapsed": true
   },
   "outputs": [],
   "source": [
    "def uncertainty_m(tau, C, P):\n",
    "    \"\"\"\n",
    "    Creates a diagonal covariance matrix of error terms from the expressed views representing the uncertainty in each view (K x K matrix). \n",
    "    Requires: tau, covariance matrix, and views' links matrix\n",
    "    \"\"\"\n",
    "    w = np.dot(np.dot(np.dot(tau, P),C),P.T)\n",
    "    return w"
   ]
  },
  {
   "cell_type": "code",
   "execution_count": 15,
   "metadata": {
    "collapsed": true
   },
   "outputs": [],
   "source": [
    "def eqexcessret(tau, C, P, w, Q, eqRet):\n",
    "    \"\"\"\n",
    "    Combines the different components to return the combined return vector\n",
    "    Requires: tau, covariance matrix, views' links matrix, uncertainty matrix, views vector, equilibrium expected returns\n",
    "    \"\"\"\n",
    "    sub_a = np.linalg.inv(np.dot(tau, C))\n",
    "    sub_b = np.dot(np.dot(np.transpose(P), np.linalg.inv(w)), P)\n",
    "    sub_c = np.dot(np.linalg.inv(np.dot(tau, C)), eqRet)\n",
    "    sub_d = np.dot(np.dot(np.transpose(P), np.linalg.inv(w)), Q)\n",
    "    eqRet_adj = np.dot(np.linalg.inv(sub_a + sub_b), (sub_c + sub_d))\n",
    "    return eqRet_adj"
   ]
  },
  {
   "cell_type": "code",
   "execution_count": 16,
   "metadata": {
    "collapsed": true
   },
   "outputs": [],
   "source": [
    "def load_returns_data(symbols, start, end): \n",
    "    \"\"\"\n",
    "    Takes in the symbols for the assets to load pricing data and converts into daily returns, \n",
    "    Requires: asset symbols as a list, starting and ending dates \n",
    "    \"\"\"\n",
    "    data={}\n",
    "    for symbol in symbols:\n",
    "        data[symbol]=get_pricing(symbol, start_date=start, end_date=end, symbol_reference_date=None, frequency='daily', fields='price', handle_missing='raise', start_offset=0)\n",
    "    returns={}\n",
    "    for symbol in symbols:\n",
    "        returns[symbol] = data[symbol].pct_change()[1:]\n",
    "    returns_df=pd.DataFrame.from_dict(returns, orient='columns', dtype=None)\n",
    "    returns_df=returns_df[symbols]\n",
    "    return returns_df"
   ]
  },
  {
   "cell_type": "code",
   "execution_count": 17,
   "metadata": {
    "collapsed": true
   },
   "outputs": [],
   "source": [
    "def expectedreturn(symbols,returns_df):\n",
    "    expectedreturn= np.array([])\n",
    "    for symbol in symbols:\n",
    "        expectedreturn=np.append(expectedreturn,(1+np.mean(returns_df[column]))**250-1)\n",
    "    return expectedreturn"
   ]
  },
  {
   "cell_type": "code",
   "execution_count": 18,
   "metadata": {
    "collapsed": true
   },
   "outputs": [],
   "source": [
    "def lam(m, v, Rf): \n",
    "    \"\"\"\n",
    "    Calculates the risk aversion coefficient\n",
    "    Requires: expected (market/ benchmark) return, \n",
    "    variance of the (market/benchmark) returns, \n",
    "    and risk free rate\n",
    "    \"\"\"\n",
    "    lam= (m-Rf)/v\n",
    "    return lam"
   ]
  },
  {
   "cell_type": "code",
   "execution_count": 19,
   "metadata": {
    "collapsed": true
   },
   "outputs": [],
   "source": [
    "def eqret(C, W, lam):\n",
    "    \"\"\"\n",
    "    Calculates the implied equilibrium excess return by finding the dot products of lam, covariance matrix, and market weights\n",
    "    Requires: Covariance matrix, market weights, and lambda\n",
    "    \"\"\"\n",
    "    eqret= np.dot(np.dot(lam,C),W)\n",
    "    return eqret"
   ]
  },
  {
   "cell_type": "markdown",
   "metadata": {},
   "source": [
    "For years, the world has been excited about the opportunities of artificial intelligence in the field of finance. Largely, it’s because financial datasets are inherently large and complex making predicting investment trends near impossible without the assistance of programs. However, an easier problem to solve is the allocation of assets in an investment portfolios. Companies like Wealthfront have been touting investment robots that can help allocate investments using key investment principles like CAPM, Mean Variance Optimization, and Black Litterman. \n",
    "\n",
    "Following a careful evaluation of wealthfront’s investment white paper and their methodology, I’ve come to the conclusion that creating a Black Litterman portfolio optimizer is well within my means.\n",
    "\n",
    "Every investor is looking to answer several questions: \n",
    "What assets to buy?\n",
    "When to buy said assets?\n",
    "How much of each asset to buy?\n",
    "When to sell the assets?\n",
    "\n",
    "A portfolio optimizer is mainly used to solve the third question; by optimizing the weights of each asset in the portfolio to maximize the sharpe ratio. However, what’s more about Black Litterman  is that it enables investors to combine their views regarding the performance of various assets with the market equilibrium in a manner that results in intuitive, diversified portfolios.\n"
   ]
  },
  {
   "cell_type": "markdown",
   "metadata": {},
   "source": [
    "### Background"
   ]
  },
  {
   "cell_type": "markdown",
   "metadata": {},
   "source": [
    "In order to build the optimizer, a more in depth understanding regarding Black Litterman model is required. Many of the material in this section is taken from the step by step guide to using Black Litterman. \n",
    "Black Litterman was created to address three main problems with the traditional mean variance optimization proposed as part of Harry Markowitz’s Modern Portfolio Theory: 1. Highly concentrated portfolios, 2. Input sensitivity, 3. Estimation error maximization. \n",
    "\n",
    "Mean variance optimized portfolios often yield extreme long short positions, and when constrained for only long positions, concentrates holdings in few assets. \n",
    "\n",
    "Input sensitivity refers to the fact that when using mean variance optimization, the resulting portfolio weights see massive changes when the expected returns of the assets change slightly. Black Litterman overcomes this by allowing investors to incorporate their own views to adjust the expected return. Finally, according to the guide and its cited report  has solved the problem of error maximization by spreading out the errors across the expected return vector. (I don’t fully understand this last error, so I’m going to simply assume it is correct.)\n",
    "\n",
    "Step by step guide :http://valuestockselector.com/investingarticles/BlackLitterman.pdf\n",
    "Report: https://www.jstor.org/stable/4479185?seq=1#page_scan_tab_contents\n"
   ]
  },
  {
   "cell_type": "markdown",
   "metadata": {},
   "source": [
    "Based on the Wealthfront whitepaper, Wealthfront has two different ETF combinations based on the investors preference.  "
   ]
  },
  {
   "cell_type": "code",
   "execution_count": 20,
   "metadata": {
    "collapsed": true
   },
   "outputs": [],
   "source": [
    "symbols1= ['VTI', 'VEA', 'VWO', 'VIG', 'XLE', 'VTEB']\n",
    "symbols2= ['VTI', 'VEA', 'VWO', 'VIG', 'VNQ', 'LQD','EMB']"
   ]
  },
  {
   "cell_type": "markdown",
   "metadata": {},
   "source": [
    "We need to specify a start and end date for the period of historical pricing data for which we will be using to find the appropriate portfolio."
   ]
  },
  {
   "cell_type": "code",
   "execution_count": 21,
   "metadata": {
    "collapsed": true
   },
   "outputs": [],
   "source": [
    "start= '2010-01-03'\n",
    "end= '2015-01-03'"
   ]
  },
  {
   "cell_type": "code",
   "execution_count": 22,
   "metadata": {
    "collapsed": false
   },
   "outputs": [
    {
     "name": "stdout",
     "output_type": "stream",
     "text": [
      "                                VTI       VEA       VWO       VIG       XLE  \\\n",
      "2010-01-05 00:00:00+00:00  0.003329  0.000564  0.004256 -0.000423  0.009870   \n",
      "2010-01-06 00:00:00+00:00  0.001688  0.000298  0.005404  0.000846  0.011130   \n",
      "2010-01-07 00:00:00+00:00  0.004212 -0.001988 -0.007245  0.004835 -0.002013   \n",
      "2010-01-08 00:00:00+00:00  0.003279  0.008832  0.005653 -0.001051  0.006851   \n",
      "2010-01-11 00:00:00+00:00  0.001387  0.007636  0.001161  0.006290 -0.001823   \n",
      "\n",
      "                           VTEB  \n",
      "2010-01-05 00:00:00+00:00   NaN  \n",
      "2010-01-06 00:00:00+00:00   NaN  \n",
      "2010-01-07 00:00:00+00:00   NaN  \n",
      "2010-01-08 00:00:00+00:00   NaN  \n",
      "2010-01-11 00:00:00+00:00   NaN  \n",
      "                                VTI       VEA       VWO       VIG       XLE  \\\n",
      "2014-12-26 00:00:00+00:00  0.003177  0.003214  0.007294  0.000973  0.000000   \n",
      "2014-12-29 00:00:00+00:00  0.001770 -0.006563 -0.003745 -0.000243  0.003496   \n",
      "2014-12-30 00:00:00+00:00 -0.004649 -0.008843  0.002757 -0.003647 -0.007713   \n",
      "2014-12-31 00:00:00+00:00 -0.009714 -0.006298 -0.000250 -0.009517 -0.007648   \n",
      "2015-01-02 00:00:00+00:00 -0.000849 -0.004753 -0.010500 -0.002217  0.004801   \n",
      "\n",
      "                           VTEB  \n",
      "2014-12-26 00:00:00+00:00   NaN  \n",
      "2014-12-29 00:00:00+00:00   NaN  \n",
      "2014-12-30 00:00:00+00:00   NaN  \n",
      "2014-12-31 00:00:00+00:00   NaN  \n",
      "2015-01-02 00:00:00+00:00   NaN  \n",
      "                                VTI       VEA       VWO       VIG       VNQ  \\\n",
      "2010-01-05 00:00:00+00:00  0.003329  0.000564  0.004256 -0.000423  0.000671   \n",
      "2010-01-06 00:00:00+00:00  0.001688  0.000298  0.005404  0.000846 -0.002013   \n",
      "2010-01-07 00:00:00+00:00  0.004212 -0.001988 -0.007245  0.004835  0.011025   \n",
      "2010-01-08 00:00:00+00:00  0.003279  0.008832  0.005653 -0.001051 -0.008006   \n",
      "2010-01-11 00:00:00+00:00  0.001387  0.007636  0.001161  0.006290  0.006488   \n",
      "\n",
      "                                LQD       EMB  \n",
      "2010-01-05 00:00:00+00:00  0.005736  0.006188  \n",
      "2010-01-06 00:00:00+00:00 -0.002754  0.001267  \n",
      "2010-01-07 00:00:00+00:00  0.001144 -0.004209  \n",
      "2010-01-08 00:00:00+00:00  0.001708  0.002174  \n",
      "2010-01-11 00:00:00+00:00  0.001336  0.005850  \n",
      "                                VTI       VEA       VWO       VIG       VNQ  \\\n",
      "2014-12-26 00:00:00+00:00  0.003177  0.003214  0.007294  0.000973  0.003672   \n",
      "2014-12-29 00:00:00+00:00  0.001770 -0.006563 -0.003745 -0.000243  0.005366   \n",
      "2014-12-30 00:00:00+00:00 -0.004649 -0.008843  0.002757 -0.003647 -0.000728   \n",
      "2014-12-31 00:00:00+00:00 -0.009714 -0.006298 -0.000250 -0.009517 -0.016387   \n",
      "2015-01-02 00:00:00+00:00 -0.000849 -0.004753 -0.010500 -0.002217  0.014686   \n",
      "\n",
      "                                LQD       EMB  \n",
      "2014-12-26 00:00:00+00:00 -0.000420 -0.001893  \n",
      "2014-12-29 00:00:00+00:00  0.002775 -0.004515  \n",
      "2014-12-30 00:00:00+00:00  0.001090  0.002540  \n",
      "2014-12-31 00:00:00+00:00  0.000251 -0.007872  \n",
      "2015-01-02 00:00:00+00:00  0.003768 -0.002098  \n"
     ]
    }
   ],
   "source": [
    "returns_df1=load_returns_data(symbols1, start, end)\n",
    "returns_df2=load_returns_data(symbols2, start, end)\n",
    "print returns_df1.head()\n",
    "print returns_df1.tail()\n",
    "print returns_df2.head()\n",
    "print returns_df2.tail()"
   ]
  },
  {
   "cell_type": "markdown",
   "metadata": {},
   "source": [
    "Since VTEB doesn't have enough data to draw from as seen from the head and tail, we will be removing VTEB from the dataframes."
   ]
  },
  {
   "cell_type": "code",
   "execution_count": 23,
   "metadata": {
    "collapsed": false
   },
   "outputs": [
    {
     "name": "stdout",
     "output_type": "stream",
     "text": [
      "                                VTI       VEA       VWO       VIG       XLE\n",
      "2010-01-05 00:00:00+00:00  0.003329  0.000564  0.004256 -0.000423  0.009870\n",
      "2010-01-06 00:00:00+00:00  0.001688  0.000298  0.005404  0.000846  0.011130\n",
      "2010-01-07 00:00:00+00:00  0.004212 -0.001988 -0.007245  0.004835 -0.002013\n",
      "2010-01-08 00:00:00+00:00  0.003279  0.008832  0.005653 -0.001051  0.006851\n",
      "2010-01-11 00:00:00+00:00  0.001387  0.007636  0.001161  0.006290 -0.001823\n"
     ]
    }
   ],
   "source": [
    "returns_df1=returns_df1.drop('VTEB', axis=1)\n",
    "print(returns_df1.head())"
   ]
  },
  {
   "cell_type": "markdown",
   "metadata": {},
   "source": [
    "We will analyze the first combination (returns_df1) before moving onto the second combination."
   ]
  },
  {
   "cell_type": "code",
   "execution_count": 24,
   "metadata": {
    "collapsed": false
   },
   "outputs": [],
   "source": [
    "C1, R1= assetmeanvar(returns_df1)"
   ]
  },
  {
   "cell_type": "code",
   "execution_count": 25,
   "metadata": {
    "collapsed": false
   },
   "outputs": [
    {
     "data": {
      "text/html": [
       "<div>\n",
       "<table border=\"1\" class=\"dataframe\">\n",
       "  <thead>\n",
       "    <tr style=\"text-align: right;\">\n",
       "      <th></th>\n",
       "      <th>VTI</th>\n",
       "      <th>VEA</th>\n",
       "      <th>VWO</th>\n",
       "      <th>VIG</th>\n",
       "      <th>XLE</th>\n",
       "    </tr>\n",
       "  </thead>\n",
       "  <tbody>\n",
       "    <tr>\n",
       "      <th>Expected Returns</th>\n",
       "      <td>0.167492</td>\n",
       "      <td>0.067939</td>\n",
       "      <td>0.035935</td>\n",
       "      <td>0.147877</td>\n",
       "      <td>0.106458</td>\n",
       "    </tr>\n",
       "  </tbody>\n",
       "</table>\n",
       "</div>"
      ],
      "text/plain": [
       "                       VTI       VEA       VWO       VIG       XLE\n",
       "Expected Returns  0.167492  0.067939  0.035935  0.147877  0.106458"
      ]
     },
     "metadata": {},
     "output_type": "display_data"
    },
    {
     "name": "stdout",
     "output_type": "stream",
     "text": [
      "Covariance Matrix\n"
     ]
    },
    {
     "data": {
      "text/html": [
       "<div>\n",
       "<table border=\"1\" class=\"dataframe\">\n",
       "  <thead>\n",
       "    <tr style=\"text-align: right;\">\n",
       "      <th></th>\n",
       "      <th>VTI</th>\n",
       "      <th>VEA</th>\n",
       "      <th>VWO</th>\n",
       "      <th>VIG</th>\n",
       "      <th>XLE</th>\n",
       "    </tr>\n",
       "  </thead>\n",
       "  <tbody>\n",
       "    <tr>\n",
       "      <th>VTI</th>\n",
       "      <td>0.026690</td>\n",
       "      <td>0.030565</td>\n",
       "      <td>0.031271</td>\n",
       "      <td>0.022685</td>\n",
       "      <td>0.031603</td>\n",
       "    </tr>\n",
       "    <tr>\n",
       "      <th>VEA</th>\n",
       "      <td>0.030565</td>\n",
       "      <td>0.042698</td>\n",
       "      <td>0.040840</td>\n",
       "      <td>0.026362</td>\n",
       "      <td>0.037466</td>\n",
       "    </tr>\n",
       "    <tr>\n",
       "      <th>VWO</th>\n",
       "      <td>0.031271</td>\n",
       "      <td>0.040840</td>\n",
       "      <td>0.050083</td>\n",
       "      <td>0.026864</td>\n",
       "      <td>0.039206</td>\n",
       "    </tr>\n",
       "    <tr>\n",
       "      <th>VIG</th>\n",
       "      <td>0.022685</td>\n",
       "      <td>0.026362</td>\n",
       "      <td>0.026864</td>\n",
       "      <td>0.020282</td>\n",
       "      <td>0.027133</td>\n",
       "    </tr>\n",
       "    <tr>\n",
       "      <th>XLE</th>\n",
       "      <td>0.031603</td>\n",
       "      <td>0.037466</td>\n",
       "      <td>0.039206</td>\n",
       "      <td>0.027133</td>\n",
       "      <td>0.048352</td>\n",
       "    </tr>\n",
       "  </tbody>\n",
       "</table>\n",
       "</div>"
      ],
      "text/plain": [
       "          VTI       VEA       VWO       VIG       XLE\n",
       "VTI  0.026690  0.030565  0.031271  0.022685  0.031603\n",
       "VEA  0.030565  0.042698  0.040840  0.026362  0.037466\n",
       "VWO  0.031271  0.040840  0.050083  0.026864  0.039206\n",
       "VIG  0.022685  0.026362  0.026864  0.020282  0.027133\n",
       "XLE  0.031603  0.037466  0.039206  0.027133  0.048352"
      ]
     },
     "metadata": {},
     "output_type": "display_data"
    }
   ],
   "source": [
    "display(pd.DataFrame(R1, columns=['Expected Returns'], index= returns_df1.columns).T)\n",
    "print('Covariance Matrix')\n",
    "display(pd.DataFrame(C1, columns=returns_df1.columns, index= returns_df1.columns))"
   ]
  },
  {
   "cell_type": "markdown",
   "metadata": {},
   "source": [
    "Market cap will have to be hardcoded, since Quantopian does not offer market cap information on ETFs. We will use Net Asset Value to represent market cap."
   ]
  },
  {
   "cell_type": "code",
   "execution_count": 26,
   "metadata": {
    "collapsed": true
   },
   "outputs": [],
   "source": [
    "Market_cap1={'VTI': 656960000000.000, 'VEA':104110000000.000, 'VWO': 89220000000.000, 'VIG':33550000000.000, 'XLE':16610000000.000}\n",
    "Market_cap2={'VTI': 656960000000.000, 'VEA':104110000000.000, 'VWO': 89220000000.000, 'VIG':33550000000.000, 'VNQ':34630000000.000, 'LQD':38460000000.000, 'EMB':12470000000.000}"
   ]
  },
  {
   "cell_type": "code",
   "execution_count": 27,
   "metadata": {
    "collapsed": false
   },
   "outputs": [],
   "source": [
    "W1= weightsbymarketcap(returns_df1, Market_cap1)\n",
    "W2= weightsbymarketcap(returns_df2, Market_cap2)"
   ]
  },
  {
   "cell_type": "markdown",
   "metadata": {
    "collapsed": true
   },
   "source": [
    "We'e going to first calculate the weights generated by utilizing mean variance optimization, which works to maximizethe Sharpe ratio. "
   ]
  },
  {
   "cell_type": "code",
   "execution_count": 28,
   "metadata": {
    "collapsed": false
   },
   "outputs": [
    {
     "data": {
      "text/html": [
       "<div>\n",
       "<table border=\"1\" class=\"dataframe\">\n",
       "  <thead>\n",
       "    <tr style=\"text-align: right;\">\n",
       "      <th></th>\n",
       "      <th>VTI</th>\n",
       "      <th>VEA</th>\n",
       "      <th>VWO</th>\n",
       "      <th>VIG</th>\n",
       "      <th>XLE</th>\n",
       "    </tr>\n",
       "  </thead>\n",
       "  <tbody>\n",
       "    <tr>\n",
       "      <th>Weights_MVO</th>\n",
       "      <td>0.472223</td>\n",
       "      <td>5.898060e-17</td>\n",
       "      <td>0.000000</td>\n",
       "      <td>0.527777</td>\n",
       "      <td>0.000000</td>\n",
       "    </tr>\n",
       "    <tr>\n",
       "      <th>Weights_market_cap</th>\n",
       "      <td>0.729591</td>\n",
       "      <td>1.156200e-01</td>\n",
       "      <td>0.099084</td>\n",
       "      <td>0.037259</td>\n",
       "      <td>0.018446</td>\n",
       "    </tr>\n",
       "  </tbody>\n",
       "</table>\n",
       "</div>"
      ],
      "text/plain": [
       "                         VTI           VEA       VWO       VIG       XLE\n",
       "Weights_MVO         0.472223  5.898060e-17  0.000000  0.527777  0.000000\n",
       "Weights_market_cap  0.729591  1.156200e-01  0.099084  0.037259  0.018446"
      ]
     },
     "metadata": {},
     "output_type": "display_data"
    }
   ],
   "source": [
    "Rf=0.015  #setting the risk free rate at 1.5% \n",
    "W1_mvo=solve_weights(R1, C1, Rf)\n",
    "display(pd.DataFrame([W1_mvo, W1], columns=returns_df1.columns, index= ['Weights_MVO', 'Weights_market_cap']))"
   ]
  },
  {
   "cell_type": "markdown",
   "metadata": {},
   "source": [
    "As seen above, in using MVO, it often only optimizes the portfolio with two allocations. This is problematic, and counter intuitive since in a real market setting, it may be imprudent to only have two allocations."
   ]
  },
  {
   "cell_type": "code",
   "execution_count": 29,
   "metadata": {
    "collapsed": false
   },
   "outputs": [
    {
     "data": {
      "text/html": [
       "<div>\n",
       "<table border=\"1\" class=\"dataframe\">\n",
       "  <thead>\n",
       "    <tr style=\"text-align: right;\">\n",
       "      <th></th>\n",
       "      <th>VTI</th>\n",
       "      <th>VEA</th>\n",
       "      <th>VWO</th>\n",
       "      <th>VIG</th>\n",
       "      <th>XLE</th>\n",
       "    </tr>\n",
       "  </thead>\n",
       "  <tbody>\n",
       "    <tr>\n",
       "      <th>Expected Returns</th>\n",
       "      <td>0.167492</td>\n",
       "      <td>0.067939</td>\n",
       "      <td>0.035935</td>\n",
       "      <td>0.147877</td>\n",
       "      <td>0.106458</td>\n",
       "    </tr>\n",
       "    <tr>\n",
       "      <th>Equilibrium Returns</th>\n",
       "      <td>0.120637</td>\n",
       "      <td>0.144399</td>\n",
       "      <td>0.149952</td>\n",
       "      <td>0.103038</td>\n",
       "      <td>0.145366</td>\n",
       "    </tr>\n",
       "  </tbody>\n",
       "</table>\n",
       "</div>"
      ],
      "text/plain": [
       "                          VTI       VEA       VWO       VIG       XLE\n",
       "Expected Returns     0.167492  0.067939  0.035935  0.147877  0.106458\n",
       "Equilibrium Returns  0.120637  0.144399  0.149952  0.103038  0.145366"
      ]
     },
     "metadata": {},
     "output_type": "display_data"
    }
   ],
   "source": [
    "m1,v1= mean_var(W1, R1, C1)\n",
    "lam1= lam(m1, v1, Rf)\n",
    "eqret1= eqret(C1, W1, lam1)\n",
    "display(pd.DataFrame([R1,eqret1], columns=returns_df1.columns, index=['Expected Returns', 'Equilibrium Returns']))"
   ]
  },
  {
   "cell_type": "code",
   "execution_count": 30,
   "metadata": {
    "collapsed": false
   },
   "outputs": [],
   "source": [
    "W1_eq=solve_weights(eqret1+Rf, C1, Rf)\n"
   ]
  },
  {
   "cell_type": "code",
   "execution_count": 31,
   "metadata": {
    "collapsed": false
   },
   "outputs": [
    {
     "data": {
      "image/png": "[encoded data removed]",
      "text/plain": [
       "<matplotlib.figure.Figure at 0x7f6d956547d0>"
      ]
     },
     "metadata": {},
     "output_type": "display_data"
    },
    {
     "data": {
      "text/html": [
       "<div>\n",
       "<table border=\"1\" class=\"dataframe\">\n",
       "  <thead>\n",
       "    <tr style=\"text-align: right;\">\n",
       "      <th></th>\n",
       "      <th>VTI</th>\n",
       "      <th>VEA</th>\n",
       "      <th>VWO</th>\n",
       "      <th>VIG</th>\n",
       "      <th>XLE</th>\n",
       "    </tr>\n",
       "  </thead>\n",
       "  <tbody>\n",
       "    <tr>\n",
       "      <th>Weights_MVO</th>\n",
       "      <td>0.472223</td>\n",
       "      <td>5.898060e-17</td>\n",
       "      <td>0.000000</td>\n",
       "      <td>0.527777</td>\n",
       "      <td>0.000000</td>\n",
       "    </tr>\n",
       "    <tr>\n",
       "      <th>Weights_market_cap</th>\n",
       "      <td>0.729591</td>\n",
       "      <td>1.156200e-01</td>\n",
       "      <td>0.099084</td>\n",
       "      <td>0.037259</td>\n",
       "      <td>0.018446</td>\n",
       "    </tr>\n",
       "    <tr>\n",
       "      <th>Equilibrium Weights</th>\n",
       "      <td>0.730696</td>\n",
       "      <td>1.155927e-01</td>\n",
       "      <td>0.098778</td>\n",
       "      <td>0.036141</td>\n",
       "      <td>0.018792</td>\n",
       "    </tr>\n",
       "  </tbody>\n",
       "</table>\n",
       "</div>"
      ],
      "text/plain": [
       "                          VTI           VEA       VWO       VIG       XLE\n",
       "Weights_MVO          0.472223  5.898060e-17  0.000000  0.527777  0.000000\n",
       "Weights_market_cap   0.729591  1.156200e-01  0.099084  0.037259  0.018446\n",
       "Equilibrium Weights  0.730696  1.155927e-01  0.098778  0.036141  0.018792"
      ]
     },
     "metadata": {},
     "output_type": "display_data"
    },
    {
     "data": {
      "text/html": [
       "<div>\n",
       "<table border=\"1\" class=\"dataframe\">\n",
       "  <thead>\n",
       "    <tr style=\"text-align: right;\">\n",
       "      <th></th>\n",
       "      <th>expected_return</th>\n",
       "      <th>variance</th>\n",
       "    </tr>\n",
       "  </thead>\n",
       "  <tbody>\n",
       "    <tr>\n",
       "      <th>MVO</th>\n",
       "      <td>0.157140</td>\n",
       "      <td>0.151355</td>\n",
       "    </tr>\n",
       "    <tr>\n",
       "      <th>Equilibrium</th>\n",
       "      <td>0.141108</td>\n",
       "      <td>0.169665</td>\n",
       "    </tr>\n",
       "  </tbody>\n",
       "</table>\n",
       "</div>"
      ],
      "text/plain": [
       "             expected_return  variance\n",
       "MVO                 0.157140  0.151355\n",
       "Equilibrium         0.141108  0.169665"
      ]
     },
     "metadata": {},
     "output_type": "display_data"
    }
   ],
   "source": [
    "#Display the frontiers\n",
    "result1, front_mean1, front_var1= optimize_frontier(R1, C1, Rf)\n",
    "pairx1=[]\n",
    "pairy1=[]\n",
    "for i in range(len(R1)):\n",
    "    pairx1.append(C1[i][i]**0.5)\n",
    "    pairy1.append(R1[i])\n",
    "fig= plt.figure(figsize=(12, 24))\n",
    "ax= fig.add_subplot(2,1,1)\n",
    "ax.scatter(pairx1, pairy1)\n",
    "ax.plot(front_var1**0.5, front_mean1, label='MVO')\n",
    "plt.xlabel('variance')\n",
    "plt.ylabel('expected return')\n",
    "ax.legend(loc='upper left')\n",
    "for i, column in enumerate(returns_df1.columns):\n",
    "    ax.annotate(returns_df1.columns[i], (pairx1[i], pairy1[i]))\n",
    "ax.scatter(result1['tangent_variance']**0.5,result1['tangent_mean'])\n",
    "ax.annotate('tangent',(result1['tangent_variance']**0.5,result1['tangent_mean']))\n",
    "result1_eq, front_mean1_eq, front_var1_eq=optimize_frontier(eqret1+Rf, C1, Rf)\n",
    "pair_eqy1=[]\n",
    "for i in range(len(eqret1)):\n",
    "    pair_eqy1.append(eqret1[i]+Rf)\n",
    "pair_eqx1= pairx1\n",
    "ax.scatter(pair_eqx1, pair_eqy1, color= 'green')\n",
    "for i, column in enumerate(returns_df1.columns):\n",
    "    ax.annotate(returns_df1.columns[i], (pair_eqx1[i], pair_eqy1[i]))  \n",
    "ax.plot(front_var1_eq**0.5, front_mean1_eq, color= 'green', label='Black')\n",
    "ax.scatter(result1_eq['tangent_variance']**0.5, result1_eq['tangent_mean'],color='green')\n",
    "ax.annotate('tangent',(result1_eq['tangent_variance']**0.5, result1_eq['tangent_mean']))\n",
    "ax.legend(loc='upper left')\n",
    "plt.show()\n",
    "display(pd.DataFrame([result1['weights'], W1, result1_eq['weights']], columns=returns_df1.columns, index= ['Weights_MVO', 'Weights_market_cap', 'Equilibrium Weights']))\n",
    "display(pd.DataFrame([[result1['tangent_mean'], result1['tangent_variance']**0.5],[result1_eq['tangent_mean'], result1_eq['tangent_variance']**0.5]], index=['MVO', 'Equilibrium'], columns=['expected_return', 'variance']))\n"
   ]
  },
  {
   "cell_type": "markdown",
   "metadata": {},
   "source": [
    "Through the graph, we can see how the expected(historical) returns form a efficient frontier (blue). Each point on the frontier represents a portfolio composition that minimizes variance at the specific expected return. The tangent portfolio on the blue curve is the MVO portfolio. We can also see how the curve is smoothed out through using reverse optimization with market weights in the first step of Black Litterman, and how the expected returns of each asset has shifted. It’s important to note each asset’s variance remains constant. The tangent point on the green curve represents the Equilibrium portfolio. "
   ]
  },
  {
   "cell_type": "markdown",
   "metadata": {},
   "source": [
    "As seen above, the equilibrium weights is very close to the weights by market cap. This is due to the fact that the weights equilibrium returns are derived from the market weights, and as such the equilibrium weights are only adjusted with the risk free return, thus the two are nearly identical."
   ]
  },
  {
   "cell_type": "markdown",
   "metadata": {},
   "source": [
    "##### Now we will analyze the second combination"
   ]
  },
  {
   "cell_type": "code",
   "execution_count": 32,
   "metadata": {
    "collapsed": true
   },
   "outputs": [],
   "source": [
    "C2, R2= assetmeanvar(returns_df2)"
   ]
  },
  {
   "cell_type": "code",
   "execution_count": 33,
   "metadata": {
    "collapsed": false
   },
   "outputs": [
    {
     "data": {
      "text/html": [
       "<div>\n",
       "<table border=\"1\" class=\"dataframe\">\n",
       "  <thead>\n",
       "    <tr style=\"text-align: right;\">\n",
       "      <th></th>\n",
       "      <th>VTI</th>\n",
       "      <th>VEA</th>\n",
       "      <th>VWO</th>\n",
       "      <th>VIG</th>\n",
       "      <th>VNQ</th>\n",
       "      <th>LQD</th>\n",
       "      <th>EMB</th>\n",
       "    </tr>\n",
       "  </thead>\n",
       "  <tbody>\n",
       "    <tr>\n",
       "      <th>Expected Returns</th>\n",
       "      <td>0.167492</td>\n",
       "      <td>0.067939</td>\n",
       "      <td>0.035935</td>\n",
       "      <td>0.147877</td>\n",
       "      <td>0.195454</td>\n",
       "      <td>0.06909</td>\n",
       "      <td>0.062972</td>\n",
       "    </tr>\n",
       "  </tbody>\n",
       "</table>\n",
       "</div>"
      ],
      "text/plain": [
       "                       VTI       VEA       VWO       VIG       VNQ      LQD  \\\n",
       "Expected Returns  0.167492  0.067939  0.035935  0.147877  0.195454  0.06909   \n",
       "\n",
       "                       EMB  \n",
       "Expected Returns  0.062972  "
      ]
     },
     "metadata": {},
     "output_type": "display_data"
    },
    {
     "name": "stdout",
     "output_type": "stream",
     "text": [
      "Covariance Matrix\n"
     ]
    },
    {
     "data": {
      "text/html": [
       "<div>\n",
       "<table border=\"1\" class=\"dataframe\">\n",
       "  <thead>\n",
       "    <tr style=\"text-align: right;\">\n",
       "      <th></th>\n",
       "      <th>VTI</th>\n",
       "      <th>VEA</th>\n",
       "      <th>VWO</th>\n",
       "      <th>VIG</th>\n",
       "      <th>VNQ</th>\n",
       "      <th>LQD</th>\n",
       "      <th>EMB</th>\n",
       "    </tr>\n",
       "  </thead>\n",
       "  <tbody>\n",
       "    <tr>\n",
       "      <th>VTI</th>\n",
       "      <td>0.026690</td>\n",
       "      <td>0.030565</td>\n",
       "      <td>0.031271</td>\n",
       "      <td>0.022685</td>\n",
       "      <td>0.027637</td>\n",
       "      <td>-0.000827</td>\n",
       "      <td>0.004601</td>\n",
       "    </tr>\n",
       "    <tr>\n",
       "      <th>VEA</th>\n",
       "      <td>0.030565</td>\n",
       "      <td>0.042698</td>\n",
       "      <td>0.040840</td>\n",
       "      <td>0.026362</td>\n",
       "      <td>0.031905</td>\n",
       "      <td>-0.000576</td>\n",
       "      <td>0.006464</td>\n",
       "    </tr>\n",
       "    <tr>\n",
       "      <th>VWO</th>\n",
       "      <td>0.031271</td>\n",
       "      <td>0.040840</td>\n",
       "      <td>0.050083</td>\n",
       "      <td>0.026864</td>\n",
       "      <td>0.033599</td>\n",
       "      <td>0.000090</td>\n",
       "      <td>0.007966</td>\n",
       "    </tr>\n",
       "    <tr>\n",
       "      <th>VIG</th>\n",
       "      <td>0.022685</td>\n",
       "      <td>0.026362</td>\n",
       "      <td>0.026864</td>\n",
       "      <td>0.020282</td>\n",
       "      <td>0.023275</td>\n",
       "      <td>-0.000766</td>\n",
       "      <td>0.003834</td>\n",
       "    </tr>\n",
       "    <tr>\n",
       "      <th>VNQ</th>\n",
       "      <td>0.027637</td>\n",
       "      <td>0.031905</td>\n",
       "      <td>0.033599</td>\n",
       "      <td>0.023275</td>\n",
       "      <td>0.042302</td>\n",
       "      <td>0.000770</td>\n",
       "      <td>0.006213</td>\n",
       "    </tr>\n",
       "    <tr>\n",
       "      <th>LQD</th>\n",
       "      <td>-0.000827</td>\n",
       "      <td>-0.000576</td>\n",
       "      <td>0.000090</td>\n",
       "      <td>-0.000766</td>\n",
       "      <td>0.000770</td>\n",
       "      <td>0.003001</td>\n",
       "      <td>0.001541</td>\n",
       "    </tr>\n",
       "    <tr>\n",
       "      <th>EMB</th>\n",
       "      <td>0.004601</td>\n",
       "      <td>0.006464</td>\n",
       "      <td>0.007966</td>\n",
       "      <td>0.003834</td>\n",
       "      <td>0.006213</td>\n",
       "      <td>0.001541</td>\n",
       "      <td>0.005556</td>\n",
       "    </tr>\n",
       "  </tbody>\n",
       "</table>\n",
       "</div>"
      ],
      "text/plain": [
       "          VTI       VEA       VWO       VIG       VNQ       LQD       EMB\n",
       "VTI  0.026690  0.030565  0.031271  0.022685  0.027637 -0.000827  0.004601\n",
       "VEA  0.030565  0.042698  0.040840  0.026362  0.031905 -0.000576  0.006464\n",
       "VWO  0.031271  0.040840  0.050083  0.026864  0.033599  0.000090  0.007966\n",
       "VIG  0.022685  0.026362  0.026864  0.020282  0.023275 -0.000766  0.003834\n",
       "VNQ  0.027637  0.031905  0.033599  0.023275  0.042302  0.000770  0.006213\n",
       "LQD -0.000827 -0.000576  0.000090 -0.000766  0.000770  0.003001  0.001541\n",
       "EMB  0.004601  0.006464  0.007966  0.003834  0.006213  0.001541  0.005556"
      ]
     },
     "metadata": {},
     "output_type": "display_data"
    }
   ],
   "source": [
    "display(pd.DataFrame(R2, columns=['Expected Returns'], index= returns_df2.columns).T)\n",
    "print('Covariance Matrix')\n",
    "display(pd.DataFrame(C2, columns=returns_df2.columns, index= returns_df2.columns))"
   ]
  },
  {
   "cell_type": "code",
   "execution_count": 34,
   "metadata": {
    "collapsed": false
   },
   "outputs": [
    {
     "data": {
      "text/html": [
       "<div>\n",
       "<table border=\"1\" class=\"dataframe\">\n",
       "  <thead>\n",
       "    <tr style=\"text-align: right;\">\n",
       "      <th></th>\n",
       "      <th>VTI</th>\n",
       "      <th>VEA</th>\n",
       "      <th>VWO</th>\n",
       "      <th>VIG</th>\n",
       "      <th>VNQ</th>\n",
       "      <th>LQD</th>\n",
       "      <th>EMB</th>\n",
       "    </tr>\n",
       "  </thead>\n",
       "  <tbody>\n",
       "    <tr>\n",
       "      <th>Expected Returns</th>\n",
       "      <td>0.167492</td>\n",
       "      <td>0.067939</td>\n",
       "      <td>0.035935</td>\n",
       "      <td>0.147877</td>\n",
       "      <td>0.195454</td>\n",
       "      <td>0.069090</td>\n",
       "      <td>0.062972</td>\n",
       "    </tr>\n",
       "    <tr>\n",
       "      <th>Equilibrium Returns</th>\n",
       "      <td>0.126018</td>\n",
       "      <td>0.150806</td>\n",
       "      <td>0.156872</td>\n",
       "      <td>0.107548</td>\n",
       "      <td>0.133899</td>\n",
       "      <td>-0.002293</td>\n",
       "      <td>0.024348</td>\n",
       "    </tr>\n",
       "  </tbody>\n",
       "</table>\n",
       "</div>"
      ],
      "text/plain": [
       "                          VTI       VEA       VWO       VIG       VNQ  \\\n",
       "Expected Returns     0.167492  0.067939  0.035935  0.147877  0.195454   \n",
       "Equilibrium Returns  0.126018  0.150806  0.156872  0.107548  0.133899   \n",
       "\n",
       "                          LQD       EMB  \n",
       "Expected Returns     0.069090  0.062972  \n",
       "Equilibrium Returns -0.002293  0.024348  "
      ]
     },
     "metadata": {},
     "output_type": "display_data"
    }
   ],
   "source": [
    "m2,v2= mean_var(W2, R2, C2)\n",
    "lam2= lam(m2, v2, Rf)\n",
    "eqret2= eqret(C2, W2, lam2)\n",
    "display(pd.DataFrame([R2,eqret2], columns=returns_df2.columns, index=['Expected Returns', 'Equilibrium Returns']))"
   ]
  },
  {
   "cell_type": "code",
   "execution_count": 35,
   "metadata": {
    "collapsed": false
   },
   "outputs": [
    {
     "data": {
      "text/html": [
       "<div>\n",
       "<table border=\"1\" class=\"dataframe\">\n",
       "  <thead>\n",
       "    <tr style=\"text-align: right;\">\n",
       "      <th></th>\n",
       "      <th>VTI</th>\n",
       "      <th>VEA</th>\n",
       "      <th>VWO</th>\n",
       "      <th>VIG</th>\n",
       "      <th>VNQ</th>\n",
       "      <th>LQD</th>\n",
       "      <th>EMB</th>\n",
       "    </tr>\n",
       "  </thead>\n",
       "  <tbody>\n",
       "    <tr>\n",
       "      <th>Weights_MVO</th>\n",
       "      <td>0.091906</td>\n",
       "      <td>0.000000</td>\n",
       "      <td>2.988061e-16</td>\n",
       "      <td>0.168625</td>\n",
       "      <td>6.483529e-17</td>\n",
       "      <td>0.739469</td>\n",
       "      <td>0.000000</td>\n",
       "    </tr>\n",
       "    <tr>\n",
       "      <th>Weights_market_cap</th>\n",
       "      <td>0.677698</td>\n",
       "      <td>0.107396</td>\n",
       "      <td>9.203631e-02</td>\n",
       "      <td>0.034609</td>\n",
       "      <td>3.572313e-02</td>\n",
       "      <td>0.039674</td>\n",
       "      <td>0.012864</td>\n",
       "    </tr>\n",
       "  </tbody>\n",
       "</table>\n",
       "</div>"
      ],
      "text/plain": [
       "                         VTI       VEA           VWO       VIG           VNQ  \\\n",
       "Weights_MVO         0.091906  0.000000  2.988061e-16  0.168625  6.483529e-17   \n",
       "Weights_market_cap  0.677698  0.107396  9.203631e-02  0.034609  3.572313e-02   \n",
       "\n",
       "                         LQD       EMB  \n",
       "Weights_MVO         0.739469  0.000000  \n",
       "Weights_market_cap  0.039674  0.012864  "
      ]
     },
     "metadata": {},
     "output_type": "display_data"
    }
   ],
   "source": [
    "W2_mvo=solve_weights(R2, C2, Rf)\n",
    "display(pd.DataFrame([W2_mvo, W2], columns=returns_df2.columns, index= ['Weights_MVO', 'Weights_market_cap']))"
   ]
  },
  {
   "cell_type": "code",
   "execution_count": 36,
   "metadata": {
    "collapsed": false
   },
   "outputs": [
    {
     "data": {
      "text/html": [
       "<div>\n",
       "<table border=\"1\" class=\"dataframe\">\n",
       "  <thead>\n",
       "    <tr style=\"text-align: right;\">\n",
       "      <th></th>\n",
       "      <th>VTI</th>\n",
       "      <th>VEA</th>\n",
       "      <th>VWO</th>\n",
       "      <th>VIG</th>\n",
       "      <th>VNQ</th>\n",
       "      <th>LQD</th>\n",
       "      <th>EMB</th>\n",
       "    </tr>\n",
       "  </thead>\n",
       "  <tbody>\n",
       "    <tr>\n",
       "      <th>Weights_MVO</th>\n",
       "      <td>0.091906</td>\n",
       "      <td>0.000000</td>\n",
       "      <td>2.988061e-16</td>\n",
       "      <td>0.168625</td>\n",
       "      <td>6.483529e-17</td>\n",
       "      <td>0.739469</td>\n",
       "      <td>0.000000</td>\n",
       "    </tr>\n",
       "    <tr>\n",
       "      <th>Weights_market_cap</th>\n",
       "      <td>0.677698</td>\n",
       "      <td>0.107396</td>\n",
       "      <td>9.203631e-02</td>\n",
       "      <td>0.034609</td>\n",
       "      <td>3.572313e-02</td>\n",
       "      <td>0.039674</td>\n",
       "      <td>0.012864</td>\n",
       "    </tr>\n",
       "    <tr>\n",
       "      <th>Equilibrium Weights</th>\n",
       "      <td>0.678749</td>\n",
       "      <td>0.107561</td>\n",
       "      <td>9.200531e-02</td>\n",
       "      <td>0.035630</td>\n",
       "      <td>3.586929e-02</td>\n",
       "      <td>0.036400</td>\n",
       "      <td>0.013785</td>\n",
       "    </tr>\n",
       "  </tbody>\n",
       "</table>\n",
       "</div>"
      ],
      "text/plain": [
       "                          VTI       VEA           VWO       VIG           VNQ  \\\n",
       "Weights_MVO          0.091906  0.000000  2.988061e-16  0.168625  6.483529e-17   \n",
       "Weights_market_cap   0.677698  0.107396  9.203631e-02  0.034609  3.572313e-02   \n",
       "Equilibrium Weights  0.678749  0.107561  9.200531e-02  0.035630  3.586929e-02   \n",
       "\n",
       "                          LQD       EMB  \n",
       "Weights_MVO          0.739469  0.000000  \n",
       "Weights_market_cap   0.039674  0.012864  \n",
       "Equilibrium Weights  0.036400  0.013785  "
      ]
     },
     "metadata": {},
     "output_type": "display_data"
    }
   ],
   "source": [
    "W2_eq=solve_weights(eqret2+Rf, C2, Rf)\n",
    "display(pd.DataFrame([W2_mvo, W2, W2_eq], columns=returns_df2.columns, index= ['Weights_MVO', 'Weights_market_cap', 'Equilibrium Weights']))"
   ]
  },
  {
   "cell_type": "code",
   "execution_count": 37,
   "metadata": {
    "collapsed": false
   },
   "outputs": [
    {
     "data": {
      "image/png": "[encoded data removed]",
      "text/plain": [
       "<matplotlib.figure.Figure at 0x7f6d95614a90>"
      ]
     },
     "metadata": {},
     "output_type": "display_data"
    },
    {
     "data": {
      "text/html": [
       "<div>\n",
       "<table border=\"1\" class=\"dataframe\">\n",
       "  <thead>\n",
       "    <tr style=\"text-align: right;\">\n",
       "      <th></th>\n",
       "      <th>VTI</th>\n",
       "      <th>VEA</th>\n",
       "      <th>VWO</th>\n",
       "      <th>VIG</th>\n",
       "      <th>VNQ</th>\n",
       "      <th>LQD</th>\n",
       "      <th>EMB</th>\n",
       "    </tr>\n",
       "  </thead>\n",
       "  <tbody>\n",
       "    <tr>\n",
       "      <th>Weights_MVO</th>\n",
       "      <td>0.091906</td>\n",
       "      <td>0.000000</td>\n",
       "      <td>2.988061e-16</td>\n",
       "      <td>0.168625</td>\n",
       "      <td>6.483529e-17</td>\n",
       "      <td>0.739469</td>\n",
       "      <td>0.000000</td>\n",
       "    </tr>\n",
       "    <tr>\n",
       "      <th>Weights_market_cap</th>\n",
       "      <td>0.677698</td>\n",
       "      <td>0.107396</td>\n",
       "      <td>9.203631e-02</td>\n",
       "      <td>0.034609</td>\n",
       "      <td>3.572313e-02</td>\n",
       "      <td>0.039674</td>\n",
       "      <td>0.012864</td>\n",
       "    </tr>\n",
       "    <tr>\n",
       "      <th>Equilibrium Weights</th>\n",
       "      <td>0.678749</td>\n",
       "      <td>0.107561</td>\n",
       "      <td>9.200531e-02</td>\n",
       "      <td>0.035630</td>\n",
       "      <td>3.586929e-02</td>\n",
       "      <td>0.036400</td>\n",
       "      <td>0.013785</td>\n",
       "    </tr>\n",
       "  </tbody>\n",
       "</table>\n",
       "</div>"
      ],
      "text/plain": [
       "                          VTI       VEA           VWO       VIG           VNQ  \\\n",
       "Weights_MVO          0.091906  0.000000  2.988061e-16  0.168625  6.483529e-17   \n",
       "Weights_market_cap   0.677698  0.107396  9.203631e-02  0.034609  3.572313e-02   \n",
       "Equilibrium Weights  0.678749  0.107561  9.200531e-02  0.035630  3.586929e-02   \n",
       "\n",
       "                          LQD       EMB  \n",
       "Weights_MVO          0.739469  0.000000  \n",
       "Weights_market_cap   0.039674  0.012864  \n",
       "Equilibrium Weights  0.036400  0.013785  "
      ]
     },
     "metadata": {},
     "output_type": "display_data"
    },
    {
     "data": {
      "text/html": [
       "<div>\n",
       "<table border=\"1\" class=\"dataframe\">\n",
       "  <thead>\n",
       "    <tr style=\"text-align: right;\">\n",
       "      <th></th>\n",
       "      <th>expected_return</th>\n",
       "      <th>variance</th>\n",
       "    </tr>\n",
       "  </thead>\n",
       "  <tbody>\n",
       "    <tr>\n",
       "      <th>MVO</th>\n",
       "      <td>0.091419</td>\n",
       "      <td>0.053317</td>\n",
       "    </tr>\n",
       "    <tr>\n",
       "      <th>Equilibrium</th>\n",
       "      <td>0.140075</td>\n",
       "      <td>0.160987</td>\n",
       "    </tr>\n",
       "  </tbody>\n",
       "</table>\n",
       "</div>"
      ],
      "text/plain": [
       "             expected_return  variance\n",
       "MVO                 0.091419  0.053317\n",
       "Equilibrium         0.140075  0.160987"
      ]
     },
     "metadata": {},
     "output_type": "display_data"
    }
   ],
   "source": [
    "#Display the frontiers\n",
    "result2, front_mean2, front_var2= optimize_frontier(R2, C2, Rf)\n",
    "pairx2=[]\n",
    "pairy2=[]\n",
    "for i in range(len(R2)):\n",
    "    pairx2.append(C2[i][i]**0.5)\n",
    "    pairy2.append(R2[i])\n",
    "fig2= plt.figure(figsize=(12,24))\n",
    "ay= fig2.add_subplot(2,1,1)\n",
    "plt.xlabel('variance')\n",
    "plt.ylabel('expected return')\n",
    "ay.scatter(pairx2, pairy2)\n",
    "ay.plot(front_var2**0.5, front_mean2, label='MVO')\n",
    "for i, column in enumerate(returns_df2.columns):\n",
    "    ay.annotate(returns_df2.columns[i], (pairx2[i], pairy2[i]))\n",
    "ay.scatter(result2['tangent_variance']**0.5,result2['tangent_mean'])\n",
    "ay.annotate('tangent',(result2['tangent_variance']**0.5,result2['tangent_mean']))\n",
    "result2_eq, front_mean2_eq, front_var2_eq=optimize_frontier(eqret2+Rf, C2, Rf)\n",
    "pair_eqy2=[]\n",
    "for i in range(len(eqret2)):\n",
    "    pair_eqy2.append(eqret2[i]+Rf)\n",
    "pair_eqx2= pairx2\n",
    "ay.scatter(pair_eqx2, pair_eqy2, color= 'green')\n",
    "for i, column in enumerate(returns_df2.columns):\n",
    "    ay.annotate(returns_df2.columns[i], (pair_eqx2[i], pair_eqy2[i]))  \n",
    "ay.plot(front_var2_eq**0.5, front_mean2_eq, color= 'green', label='Black')\n",
    "ay.scatter(result2_eq['tangent_variance']**0.5, result2_eq['tangent_mean'],color='green')\n",
    "ay.annotate('tangent',(result2_eq['tangent_variance']**0.5, result2_eq['tangent_mean']))\n",
    "ay.legend(loc='upper left')\n",
    "plt.show()\n",
    "display(pd.DataFrame([result2['weights'], W2, result2_eq['weights']], columns=returns_df2.columns, index= ['Weights_MVO', 'Weights_market_cap', 'Equilibrium Weights']))\n",
    "display(pd.DataFrame([[result2['tangent_mean'], result2['tangent_variance']**0.5],[result2_eq['tangent_mean'], result2_eq['tangent_variance']**0.5]], index=['MVO', 'Equilibrium'], columns=['expected_return', 'variance']))\n"
   ]
  },
  {
   "cell_type": "markdown",
   "metadata": {
    "collapsed": true
   },
   "source": [
    "In this second portfolio combination. The tangent for the equilibrium return actually was able to produce a higher return than that of the original MVO combination. "
   ]
  },
  {
   "cell_type": "markdown",
   "metadata": {},
   "source": [
    "##### Views"
   ]
  },
  {
   "cell_type": "markdown",
   "metadata": {},
   "source": [
    "The greatest advantage offered by Black Letterman's model is the ability to incorporate views about the varying assets against one another. The original MVO model requires you to incorporate views for every single asset, meaning, you have to input a specific expected return for each asset. This isn't very practical as traders and portfolio managers often have views of the assets in relation to each other. For example, I could believe that Google will outperform Apple, but I wouldn't know if Google can outperform the market and by how much.\n",
    "\n",
    "In order to incorporate views. We need to create a views matrix and an uncertainty matrix. For this section I will run the program for both combinations at the same time. The views I create are merely meant to show how it could affect the curves and the resulting tangent.  They do not reflect views that I hold for the market."
   ]
  },
  {
   "cell_type": "code",
   "execution_count": 38,
   "metadata": {
    "collapsed": true
   },
   "outputs": [],
   "source": [
    "#First I need to create a list of views for each combination.\n",
    "\n",
    "#Portfolio 1 views\n",
    "views1 = [('VEA', '>','VWO', 0.03),\n",
    "        ('XLE','VTI', '>', 'VIG', 0.02),\n",
    "        ('VWO','<', 'XLE', 0.02)]\n",
    "#Portfolio 2 views\n",
    "views2 = [('VEA', '>','VWO', 0.03),\n",
    "        ('VTI','VEA','>', 'VIG', 0.01),\n",
    "        ('VWO','<', 'LQD', 0.02),\n",
    "         ('LQD','>', 'EMB', 0.02)]"
   ]
  },
  {
   "cell_type": "code",
   "execution_count": 39,
   "metadata": {
    "collapsed": false
   },
   "outputs": [
    {
     "name": "stdout",
     "output_type": "stream",
     "text": [
      "the views matrix for portfolio 1\n",
      "[ 0.03  0.02  0.02]\n",
      "the links matrix for portfolio 1 \n",
      "[[ 0.          1.         -1.          0.          0.        ]\n",
      " [ 0.97534035  0.          0.         -1.          0.02465965]\n",
      " [ 0.          0.         -1.          0.          1.        ]]\n",
      "the views matrix for portfolio 2\n",
      "[ 0.03  0.01  0.02  0.02]\n",
      "the links matrix for portfolio 2\n",
      "[[ 0.          1.         -1.          0.          0.          0.          0.        ]\n",
      " [ 0.86320575  0.13679425  0.         -1.          0.          0.          0.        ]\n",
      " [ 0.          0.         -1.          0.          0.          1.          0.        ]\n",
      " [ 0.          0.          0.          0.          0.          1.         -1.        ]]\n"
     ]
    }
   ],
   "source": [
    "Q1, P1=views_and_links(views1, Market_cap1, returns_df1.columns)\n",
    "print('the views matrix for portfolio 1')\n",
    "print(Q1)\n",
    "print('the links matrix for portfolio 1 ')\n",
    "print(P1)\n",
    "Q2, P2=views_and_links(views2, Market_cap2, returns_df2.columns)\n",
    "print('the views matrix for portfolio 2')\n",
    "print(Q2)\n",
    "print('the links matrix for portfolio 2')\n",
    "print(P2)"
   ]
  },
  {
   "cell_type": "markdown",
   "metadata": {},
   "source": [
    "One of the main additions I've made to the code is for the links matrix to take in more than 2 assets to be compaired, as seen from the second statement in both views, there are 3 assets. I can add as many views as I want for as many different combinations I choose. The way to read the views is that VEA will out perform VWO by 3%. \n",
    "\n",
    "The other thing is that I made sure for the links matrix to account for market caps when there are more two assets, so as to balance the effects of the views"
   ]
  },
  {
   "cell_type": "code",
   "execution_count": 40,
   "metadata": {
    "collapsed": true
   },
   "outputs": [],
   "source": [
    "tau= 0.025 #approximation"
   ]
  },
  {
   "cell_type": "code",
   "execution_count": 41,
   "metadata": {
    "collapsed": false
   },
   "outputs": [
    {
     "name": "stdout",
     "output_type": "stream",
     "text": [
      "uncertainty matrix for portfolio 1\n",
      "[[  2.77537635e-04  -5.74638849e-06   1.87586896e-04]\n",
      " [ -5.74638849e-06   4.08134043e-05   7.01832220e-06]\n",
      " [  1.87586896e-04   7.01832220e-06   5.00577817e-04]]\n",
      "\u001b[1mequilibrium returns adjusted for views\u001b[0m\n"
     ]
    },
    {
     "data": {
      "text/html": [
       "<div>\n",
       "<table border=\"1\" class=\"dataframe\">\n",
       "  <thead>\n",
       "    <tr style=\"text-align: right;\">\n",
       "      <th></th>\n",
       "      <th>VTI</th>\n",
       "      <th>VEA</th>\n",
       "      <th>VWO</th>\n",
       "      <th>VIG</th>\n",
       "      <th>XLE</th>\n",
       "    </tr>\n",
       "  </thead>\n",
       "  <tbody>\n",
       "    <tr>\n",
       "      <th>Equilibrium Returns</th>\n",
       "      <td>0.122698</td>\n",
       "      <td>0.150822</td>\n",
       "      <td>0.138599</td>\n",
       "      <td>0.104176</td>\n",
       "      <td>0.146305</td>\n",
       "    </tr>\n",
       "  </tbody>\n",
       "</table>\n",
       "</div>"
      ],
      "text/plain": [
       "                          VTI       VEA       VWO       VIG       XLE\n",
       "Equilibrium Returns  0.122698  0.150822  0.138599  0.104176  0.146305"
      ]
     },
     "metadata": {},
     "output_type": "display_data"
    },
    {
     "name": "stdout",
     "output_type": "stream",
     "text": [
      "uncertainty matrix for portfolio 2\n",
      "[[  2.77537635e-04   3.66157866e-06   2.14424655e-04   2.09008807e-05]\n",
      " [  3.66157866e-06   4.52733786e-05  -1.43548380e-04  -2.61853230e-05]\n",
      " [  2.14424655e-04  -1.43548380e-04   1.32259762e-03   2.33412198e-04]\n",
      " [  2.09008807e-05  -2.61853230e-05   2.33412198e-04   1.36876141e-04]]\n",
      "\u001b[1mequilibrium returns adjusted for views\u001b[0m\n"
     ]
    },
    {
     "data": {
      "text/html": [
       "<div>\n",
       "<table border=\"1\" class=\"dataframe\">\n",
       "  <thead>\n",
       "    <tr style=\"text-align: right;\">\n",
       "      <th></th>\n",
       "      <th>VTI</th>\n",
       "      <th>VEA</th>\n",
       "      <th>VWO</th>\n",
       "      <th>VIG</th>\n",
       "      <th>VNQ</th>\n",
       "      <th>LQD</th>\n",
       "      <th>EMB</th>\n",
       "    </tr>\n",
       "  </thead>\n",
       "  <tbody>\n",
       "    <tr>\n",
       "      <th>Equilibrium Returns</th>\n",
       "      <td>0.076121</td>\n",
       "      <td>0.086817</td>\n",
       "      <td>0.07485</td>\n",
       "      <td>0.061654</td>\n",
       "      <td>0.083884</td>\n",
       "      <td>0.005267</td>\n",
       "      <td>0.008588</td>\n",
       "    </tr>\n",
       "  </tbody>\n",
       "</table>\n",
       "</div>"
      ],
      "text/plain": [
       "                          VTI       VEA      VWO       VIG       VNQ  \\\n",
       "Equilibrium Returns  0.076121  0.086817  0.07485  0.061654  0.083884   \n",
       "\n",
       "                          LQD       EMB  \n",
       "Equilibrium Returns  0.005267  0.008588  "
      ]
     },
     "metadata": {},
     "output_type": "display_data"
    }
   ],
   "source": [
    "w1= uncertainty_m(tau, C1, P1) #uncertainty matrix\n",
    "print('uncertainty matrix for portfolio 1')\n",
    "print(w1)\n",
    "eqret1_adj=eqexcessret(tau, C1, P1, w1, Q1, eqret1)\n",
    "print('\\033[1m'+'equilibrium returns adjusted for views'+'\\033[0m')\n",
    "display(pd.DataFrame(eqret1_adj, index=returns_df1.columns, columns= ['Equilibrium Returns']).T)\n",
    "w2= uncertainty_m(tau, C2, P2) #uncertainty matrix\n",
    "print('uncertainty matrix for portfolio 2')\n",
    "print(w2)\n",
    "eqret2_adj=eqexcessret(tau, C2, P2, w2, Q2, eqret2)\n",
    "print('\\033[1m'+'equilibrium returns adjusted for views'+'\\033[0m')\n",
    "display(pd.DataFrame(eqret2_adj, index=returns_df2.columns, columns= ['Equilibrium Returns']).T)"
   ]
  },
  {
   "cell_type": "markdown",
   "metadata": {
    "collapsed": true
   },
   "source": [
    "Once we have the new equilibrium returns, we will solve for the optimal portfolio weights, returns, and variance."
   ]
  },
  {
   "cell_type": "code",
   "execution_count": 42,
   "metadata": {
    "collapsed": false
   },
   "outputs": [
    {
     "data": {
      "image/png": "[encoded data removed]",
      "text/plain": [
       "<matplotlib.figure.Figure at 0x7f6d7ac45790>"
      ]
     },
     "metadata": {},
     "output_type": "display_data"
    }
   ],
   "source": [
    "#Display the frontiers\n",
    "result1, front_mean1, front_var1= optimize_frontier(R1, C1, Rf)\n",
    "pairx1=[]\n",
    "pairy1=[]\n",
    "for i in range(len(R1)):\n",
    "    pairx1.append(C1[i][i]**0.5)\n",
    "    pairy1.append(R1[i])\n",
    "fig= plt.figure(figsize=(12, 24))\n",
    "ax= fig.add_subplot(2,1,1)\n",
    "ax.scatter(pairx1, pairy1)\n",
    "ax.plot(front_var1**0.5, front_mean1, label='MVO')\n",
    "plt.xlabel('variance')\n",
    "plt.ylabel('expected return')\n",
    "for i, column in enumerate(returns_df1.columns):\n",
    "    ax.annotate(returns_df1.columns[i], (pairx1[i], pairy1[i]))\n",
    "ax.scatter(result1['tangent_variance']**0.5,result1['tangent_mean'])\n",
    "ax.annotate('tangent',(result1['tangent_variance']**0.5,result1['tangent_mean']))\n",
    "result1_eq, front_mean1_eq, front_var1_eq=optimize_frontier(eqret1+Rf, C1, Rf)\n",
    "pair_eqy1=[]\n",
    "for i in range(len(eqret1)):\n",
    "    pair_eqy1.append(eqret1[i]+Rf)\n",
    "pair_eqx1= pairx1\n",
    "ax.scatter(pair_eqx1, pair_eqy1, color= 'green')\n",
    "for i, column in enumerate(returns_df1.columns):\n",
    "    ax.annotate(returns_df1.columns[i], (pair_eqx1[i], pair_eqy1[i]))  \n",
    "ax.plot(front_var1_eq**0.5, front_mean1_eq, color= 'green', label='Black')\n",
    "ax.scatter(result1_eq['tangent_variance']**0.5, result1_eq['tangent_mean'],color='green')\n",
    "ax.annotate('tangent',(result1_eq['tangent_variance']**0.5, result1_eq['tangent_mean']))\n",
    "\n",
    "result1_eqadj, front_mean1_eqadj, front_var1_eqadj= optimize_frontier(eqret1_adj+Rf, C1, Rf)\n",
    "pair_eqadjy1=[]\n",
    "for i in range(len(eqret1_adj)):\n",
    "    pair_eqadjy1.append(eqret1_adj[i]+Rf)\n",
    "pair_eqadjx1= pairx1\n",
    "ax.scatter(pair_eqadjx1, pair_eqadjy1, color= 'red')\n",
    "for i, column in enumerate(returns_df1.columns):\n",
    "    ax.annotate(returns_df1.columns[i], (pair_eqadjx1[i], pair_eqadjy1[i]))  \n",
    "ax.plot(front_var1_eqadj**0.5, front_mean1_eqadj, color= 'red', label='Black with views')\n",
    "ax.scatter(result1_eqadj['tangent_variance']**0.5, result1_eqadj['tangent_mean'],color='red')\n",
    "ax.annotate('tangent',(result1_eqadj['tangent_variance']**0.5, result1_eqadj['tangent_mean']))\n",
    "ax.legend(loc='upper left')\n",
    "\n",
    "result2_eqadj, front_mean2_eqadj, front_var2_eqadj= optimize_frontier(eqret2_adj+Rf, C2, Rf)"
   ]
  },
  {
   "cell_type": "code",
   "execution_count": 52,
   "metadata": {
    "collapsed": false
   },
   "outputs": [
    {
     "data": {
      "image/png": "[encoded data removed]",
      "text/plain": [
       "<matplotlib.figure.Figure at 0x7f6d51cf79d0>"
      ]
     },
     "metadata": {},
     "output_type": "display_data"
    }
   ],
   "source": [
    "result2, front_mean2, front_var2= optimize_frontier(R2, C2, Rf)\n",
    "pairx2=[]\n",
    "pairy2=[]\n",
    "for i in range(len(R2)):\n",
    "    pairx2.append(C2[i][i]**0.5)\n",
    "    pairy2.append(R2[i])\n",
    "fig2= plt.figure(figsize=(12,24))\n",
    "ay= fig2.add_subplot(2,1,1)\n",
    "plt.xlabel('variance')\n",
    "plt.ylabel('expected return')\n",
    "ay.scatter(pairx2, pairy2)\n",
    "ay.plot(front_var2**0.5, front_mean2, label='MVO')\n",
    "for i, column in enumerate(returns_df2.columns):\n",
    "    ay.annotate(returns_df2.columns[i], (pairx2[i], pairy2[i]))\n",
    "ay.scatter(result2['tangent_variance']**0.5,result2['tangent_mean'])\n",
    "ay.annotate('tangent',(result2['tangent_variance']**0.5,result2['tangent_mean']))\n",
    "result2_eq, front_mean2_eq, front_var2_eq=optimize_frontier(eqret2+Rf, C2, Rf)\n",
    "pair_eqy2=[]\n",
    "for i in range(len(eqret2)):\n",
    "    pair_eqy2.append(eqret2[i]+Rf)\n",
    "pair_eqx2= pairx2\n",
    "ay.scatter(pair_eqx2, pair_eqy2, color= 'green')\n",
    "for i, column in enumerate(returns_df2.columns):\n",
    "    ay.annotate(returns_df2.columns[i], (pair_eqx2[i], pair_eqy2[i]))  \n",
    "ay.plot(front_var2_eq**0.5, front_mean2_eq, color= 'green', label='Black')\n",
    "ay.scatter(result2_eq['tangent_variance']**0.5, result2_eq['tangent_mean'],color='green')\n",
    "ay.annotate('tangent',(result2_eq['tangent_variance']**0.5, result2_eq['tangent_mean']))\n",
    "\n",
    "result2_eqadj, front_mean2_eqadj, front_var2_eqadj= optimize_frontier(eqret2_adj+Rf, C2, Rf)\n",
    "pair_eqadjy2=[]\n",
    "for i in range(len(eqret2_adj)):\n",
    "    pair_eqadjy2.append(eqret2_adj[i]+Rf)\n",
    "pair_eqadjx2= pairx2\n",
    "\n",
    "ay.scatter(pair_eqadjx2, pair_eqadjy2, color= 'red')\n",
    "for i, column in enumerate(returns_df2.columns):\n",
    "    ay.annotate(returns_df2.columns[i], (pair_eqadjx2[i], pair_eqadjy2[i]))  \n",
    "ay.plot(front_var2_eqadj**0.5, front_mean2_eqadj, color= 'red', label='Black with views')\n",
    "ay.scatter(result2_eqadj['tangent_variance']**0.5, result2_eqadj['tangent_mean'],color='red')\n",
    "ay.annotate('tangent',(result2_eqadj['tangent_variance']**0.5, result2_eqadj['tangent_mean']))\n",
    "ay.legend(loc='upper left')\n",
    "plt.show()"
   ]
  },
  {
   "cell_type": "markdown",
   "metadata": {},
   "source": [
    "As seen in both graphs, the frontiers are shifted and each asset's position has also been shifted. Showing that the views do affect the expected returns and the frontier. And that shift also shifts the tangent portfolio composition and return."
   ]
  },
  {
   "cell_type": "markdown",
   "metadata": {},
   "source": [
    "The next part is to evaluate how well the portfolio performs over the next 2 years based on the portfolio compositions suggested by the unadjusted portfolios. We use the unadjusted portfolios because we simply do not have the views to incorporate the market."
   ]
  },
  {
   "cell_type": "code",
   "execution_count": 53,
   "metadata": {
    "collapsed": false
   },
   "outputs": [
    {
     "data": {
      "text/html": [
       "<div>\n",
       "<table border=\"1\" class=\"dataframe\">\n",
       "  <thead>\n",
       "    <tr style=\"text-align: right;\">\n",
       "      <th></th>\n",
       "      <th>VTI</th>\n",
       "      <th>VEA</th>\n",
       "      <th>VWO</th>\n",
       "      <th>VIG</th>\n",
       "      <th>XLE</th>\n",
       "    </tr>\n",
       "  </thead>\n",
       "  <tbody>\n",
       "    <tr>\n",
       "      <th>Weights_MVO</th>\n",
       "      <td>0.472223</td>\n",
       "      <td>5.898060e-17</td>\n",
       "      <td>0.000000</td>\n",
       "      <td>0.527777</td>\n",
       "      <td>0.000000</td>\n",
       "    </tr>\n",
       "    <tr>\n",
       "      <th>Equilibrium Weights</th>\n",
       "      <td>0.730696</td>\n",
       "      <td>1.155927e-01</td>\n",
       "      <td>0.098778</td>\n",
       "      <td>0.036141</td>\n",
       "      <td>0.018792</td>\n",
       "    </tr>\n",
       "  </tbody>\n",
       "</table>\n",
       "</div>"
      ],
      "text/plain": [
       "                          VTI           VEA       VWO       VIG       XLE\n",
       "Weights_MVO          0.472223  5.898060e-17  0.000000  0.527777  0.000000\n",
       "Equilibrium Weights  0.730696  1.155927e-01  0.098778  0.036141  0.018792"
      ]
     },
     "metadata": {},
     "output_type": "display_data"
    },
    {
     "data": {
      "text/html": [
       "<div>\n",
       "<table border=\"1\" class=\"dataframe\">\n",
       "  <thead>\n",
       "    <tr style=\"text-align: right;\">\n",
       "      <th></th>\n",
       "      <th>VTI</th>\n",
       "      <th>VEA</th>\n",
       "      <th>VWO</th>\n",
       "      <th>VIG</th>\n",
       "      <th>VNQ</th>\n",
       "      <th>LQD</th>\n",
       "      <th>EMB</th>\n",
       "    </tr>\n",
       "  </thead>\n",
       "  <tbody>\n",
       "    <tr>\n",
       "      <th>Weights_MVO</th>\n",
       "      <td>0.091906</td>\n",
       "      <td>0.000000</td>\n",
       "      <td>2.988061e-16</td>\n",
       "      <td>0.168625</td>\n",
       "      <td>6.483529e-17</td>\n",
       "      <td>0.739469</td>\n",
       "      <td>0.000000</td>\n",
       "    </tr>\n",
       "    <tr>\n",
       "      <th>Equilibrium Weights</th>\n",
       "      <td>0.678749</td>\n",
       "      <td>0.107561</td>\n",
       "      <td>9.200531e-02</td>\n",
       "      <td>0.035630</td>\n",
       "      <td>3.586929e-02</td>\n",
       "      <td>0.036400</td>\n",
       "      <td>0.013785</td>\n",
       "    </tr>\n",
       "  </tbody>\n",
       "</table>\n",
       "</div>"
      ],
      "text/plain": [
       "                          VTI       VEA           VWO       VIG           VNQ  \\\n",
       "Weights_MVO          0.091906  0.000000  2.988061e-16  0.168625  6.483529e-17   \n",
       "Equilibrium Weights  0.678749  0.107561  9.200531e-02  0.035630  3.586929e-02   \n",
       "\n",
       "                          LQD       EMB  \n",
       "Weights_MVO          0.739469  0.000000  \n",
       "Equilibrium Weights  0.036400  0.013785  "
      ]
     },
     "metadata": {},
     "output_type": "display_data"
    }
   ],
   "source": [
    "start_test= '2015-01-03'\n",
    "end_test= '2015-01-03'\n",
    "returns_df1_test=load_returns_data(returns_df1.columns, start, end)\n",
    "display(pd.DataFrame([W1_mvo, W1_eq], columns=returns_df1.columns, index= ['Weights_MVO','Equilibrium Weights']))\n",
    "returns_df2_test=load_returns_data(returns_df2.columns, start, end)\n",
    "display(pd.DataFrame([W2_mvo, W2_eq], columns=returns_df2.columns, index= ['Weights_MVO','Equilibrium Weights']))"
   ]
  },
  {
   "cell_type": "code",
   "execution_count": 54,
   "metadata": {
    "collapsed": false
   },
   "outputs": [],
   "source": [
    "daily_returns1_mvo_test=pd.DataFrame(np.dot(returns_df1_test, W1_mvo), index=returns_df1_test.index, columns=['Returns'])\n",
    "daily_returns1_eq_test=pd.DataFrame(np.dot(returns_df1_test, W1_eq), index=returns_df1_test.index, columns=['Returns'])\n",
    "daily_returns2_mvo_test=pd.DataFrame(np.dot(returns_df2_test, W2_mvo), index=returns_df2_test.index, columns=['Returns'])\n",
    "daily_returns2_eq_test=pd.DataFrame(np.dot(returns_df2_test, W2_eq), index=returns_df2_test.index, columns=['Returns'])\n"
   ]
  },
  {
   "cell_type": "code",
   "execution_count": 46,
   "metadata": {
    "collapsed": false
   },
   "outputs": [
    {
     "data": {
      "image/png": "[encoded data removed]",
      "text/plain": [
       "<matplotlib.figure.Figure at 0x7f6d4fb66310>"
      ]
     },
     "metadata": {},
     "output_type": "display_data"
    }
   ],
   "source": [
    "fig3=plt.figure(figsize=(12, 12))\n",
    "az=fig3.add_subplot(1,1,1)\n",
    "cum_returns1_mvo=((daily_returns1_mvo_test + 1).cumprod() - 1)\n",
    "az.plot(cum_returns1_mvo, color='blue', label='Portfrolio 1 MVO')\n",
    "cum_returns2_mvo=((daily_returns2_mvo_test + 1).cumprod() - 1)\n",
    "az.plot(cum_returns2_mvo, color='red', label='Portfolio 2 MVO')\n",
    "cum_returns1_eq=((daily_returns1_eq_test + 1).cumprod() - 1)\n",
    "az.plot(cum_returns1_eq, color='green', label='Portfolio 1 Black')\n",
    "cum_returns2_eq=((daily_returns2_eq_test + 1).cumprod() - 1)\n",
    "az.plot(cum_returns2_eq, color='yellow', label='Portfolio 2 Black')\n",
    "plt.xlabel('Date')\n",
    "plt.ylabel('Return')\n",
    "az.legend(loc='upper left')\n",
    "plt.show()"
   ]
  },
  {
   "cell_type": "markdown",
   "metadata": {},
   "source": [
    "Based of off returns, Portfolio Composition 1 using MVO is the best portfolio."
   ]
  },
  {
   "cell_type": "code",
   "execution_count": 47,
   "metadata": {
    "collapsed": false
   },
   "outputs": [
    {
     "name": "stdout",
     "output_type": "stream",
     "text": [
      "Portfolio 1 MVO Returns: 0.967095085655\n",
      "Portfolio 2 MVO Returns: 0.537404806044\n",
      "Portfolio 1 Black Equilibrium Returns: 0.799166514114\n",
      "Portfolio 2 Black Equilibrium Returns: 0.802187171998\n"
     ]
    }
   ],
   "source": [
    "mvo_test_returns1= cum_returns1_mvo['Returns'].iloc[-1]\n",
    "mvo_test_returns2= cum_returns2_mvo['Returns'].iloc[-1]\n",
    "eq_test_returns1= cum_returns1_eq['Returns'].iloc[-1]\n",
    "eq_test_returns2= cum_returns2_eq['Returns'].iloc[-1]\n",
    "print('Portfolio 1 MVO Returns: '+str(mvo_test_returns1))\n",
    "print('Portfolio 2 MVO Returns: '+str(mvo_test_returns2))\n",
    "print('Portfolio 1 Black Equilibrium Returns: '+str(eq_test_returns1))\n",
    "print('Portfolio 2 Black Equilibrium Returns: '+str(eq_test_returns2))"
   ]
  },
  {
   "cell_type": "markdown",
   "metadata": {},
   "source": [
    "Based off of the std, Portfolio 2 using MOV is the best portfolio."
   ]
  },
  {
   "cell_type": "code",
   "execution_count": 55,
   "metadata": {
    "collapsed": false
   },
   "outputs": [
    {
     "name": "stdout",
     "output_type": "stream",
     "text": [
      "Portfolio 1 MVO Standard Deviation: 0.00957253713042\n",
      "Portfolio 2 MVO Standard Deviation: 0.00337208442509\n",
      "Portfolio 1 Black Equilibrium Standard Deviation: 0.010730527058\n",
      "Portfolio 2 Black Equilibrium Standard Deviation: 0.0101816962995\n"
     ]
    }
   ],
   "source": [
    "mvo_test_std1= daily_returns1_mvo_test['Returns'].std()\n",
    "mvo_test_std2= daily_returns2_mvo_test['Returns'].std()\n",
    "eq_test_std1= daily_returns1_eq_test['Returns'].std()\n",
    "eq_test_std2= daily_returns2_eq_test['Returns'].std()\n",
    "print('Portfolio 1 MVO Standard Deviation: '+str(mvo_test_std1))\n",
    "print('Portfolio 2 MVO Standard Deviation: '+str(mvo_test_std2))\n",
    "print('Portfolio 1 Black Equilibrium Standard Deviation: '+str(eq_test_std1))\n",
    "print('Portfolio 2 Black Equilibrium Standard Deviation: '+str(eq_test_std2))"
   ]
  },
  {
   "cell_type": "code",
   "execution_count": 56,
   "metadata": {
    "collapsed": false
   },
   "outputs": [],
   "source": [
    "mvo_annual_return1=np.sqrt(1+mvo_test_returns1)-1\n",
    "mvo_annual_return2=np.sqrt(1+mvo_test_returns2)-1\n",
    "eq_annual_return1=np.sqrt(1+eq_test_returns1)-1\n",
    "eq_annual_return2=np.sqrt(1+eq_test_returns2)-1\n",
    "\n",
    "mvo_test_sharpe1= sharpe(mvo_annual_return1, mvo_test_std1, Rf)\n",
    "eq_test_sharpe1= sharpe(eq_annual_return1, eq_test_std1, Rf)\n",
    "mvo_test_sharpe2= sharpe(mvo_annual_return2, mvo_test_std2, Rf)\n",
    "eq_test_sharpe2= sharpe(eq_annual_return2, eq_test_std2, Rf)"
   ]
  },
  {
   "cell_type": "markdown",
   "metadata": {},
   "source": [
    "Based on Sharpe Ratio, Portfolio 2 using MVO has the highest sharpe ratio."
   ]
  },
  {
   "cell_type": "code",
   "execution_count": 57,
   "metadata": {
    "collapsed": false
   },
   "outputs": [
    {
     "data": {
      "text/html": [
       "<div>\n",
       "<table border=\"1\" class=\"dataframe\">\n",
       "  <thead>\n",
       "    <tr style=\"text-align: right;\">\n",
       "      <th></th>\n",
       "      <th>VTI</th>\n",
       "      <th>VEA</th>\n",
       "      <th>VWO</th>\n",
       "      <th>VIG</th>\n",
       "      <th>XLE</th>\n",
       "    </tr>\n",
       "  </thead>\n",
       "  <tbody>\n",
       "    <tr>\n",
       "      <th>Cumulative Return</th>\n",
       "      <td>1.038095</td>\n",
       "      <td>0.250000</td>\n",
       "      <td>0.052856</td>\n",
       "      <td>0.902034</td>\n",
       "      <td>0.472723</td>\n",
       "    </tr>\n",
       "    <tr>\n",
       "      <th>Annual Return</th>\n",
       "      <td>0.427619</td>\n",
       "      <td>0.118034</td>\n",
       "      <td>0.026088</td>\n",
       "      <td>0.379142</td>\n",
       "      <td>0.213558</td>\n",
       "    </tr>\n",
       "    <tr>\n",
       "      <th>Standard Deviation</th>\n",
       "      <td>0.010332</td>\n",
       "      <td>0.013069</td>\n",
       "      <td>0.014154</td>\n",
       "      <td>0.009007</td>\n",
       "      <td>0.013907</td>\n",
       "    </tr>\n",
       "    <tr>\n",
       "      <th>Sharpe Ratio</th>\n",
       "      <td>39.934359</td>\n",
       "      <td>7.883997</td>\n",
       "      <td>0.783353</td>\n",
       "      <td>40.428619</td>\n",
       "      <td>14.277424</td>\n",
       "    </tr>\n",
       "  </tbody>\n",
       "</table>\n",
       "</div>"
      ],
      "text/plain": [
       "                          VTI       VEA       VWO        VIG        XLE\n",
       "Cumulative Return    1.038095  0.250000  0.052856   0.902034   0.472723\n",
       "Annual Return        0.427619  0.118034  0.026088   0.379142   0.213558\n",
       "Standard Deviation   0.010332  0.013069  0.014154   0.009007   0.013907\n",
       "Sharpe Ratio        39.934359  7.883997  0.783353  40.428619  14.277424"
      ]
     },
     "metadata": {},
     "output_type": "display_data"
    },
    {
     "data": {
      "text/html": [
       "<div>\n",
       "<table border=\"1\" class=\"dataframe\">\n",
       "  <thead>\n",
       "    <tr style=\"text-align: right;\">\n",
       "      <th></th>\n",
       "      <th>VTI</th>\n",
       "      <th>VEA</th>\n",
       "      <th>VWO</th>\n",
       "      <th>VIG</th>\n",
       "      <th>VNQ</th>\n",
       "      <th>LQD</th>\n",
       "      <th>EMB</th>\n",
       "    </tr>\n",
       "  </thead>\n",
       "  <tbody>\n",
       "    <tr>\n",
       "      <th>Cumulative Return</th>\n",
       "      <td>1.038095</td>\n",
       "      <td>0.250000</td>\n",
       "      <td>0.052856</td>\n",
       "      <td>0.902034</td>\n",
       "      <td>1.207900</td>\n",
       "      <td>0.389059</td>\n",
       "      <td>0.340849</td>\n",
       "    </tr>\n",
       "    <tr>\n",
       "      <th>Annual Return</th>\n",
       "      <td>0.427619</td>\n",
       "      <td>0.118034</td>\n",
       "      <td>0.026088</td>\n",
       "      <td>0.379142</td>\n",
       "      <td>0.485901</td>\n",
       "      <td>0.178584</td>\n",
       "      <td>0.157950</td>\n",
       "    </tr>\n",
       "    <tr>\n",
       "      <th>Standard Deviation</th>\n",
       "      <td>0.010332</td>\n",
       "      <td>0.013069</td>\n",
       "      <td>0.014154</td>\n",
       "      <td>0.009007</td>\n",
       "      <td>0.013008</td>\n",
       "      <td>0.003465</td>\n",
       "      <td>0.004714</td>\n",
       "    </tr>\n",
       "    <tr>\n",
       "      <th>Sharpe Ratio</th>\n",
       "      <td>39.934359</td>\n",
       "      <td>7.883997</td>\n",
       "      <td>0.783353</td>\n",
       "      <td>40.428619</td>\n",
       "      <td>36.200814</td>\n",
       "      <td>47.214463</td>\n",
       "      <td>30.324192</td>\n",
       "    </tr>\n",
       "  </tbody>\n",
       "</table>\n",
       "</div>"
      ],
      "text/plain": [
       "                          VTI       VEA       VWO        VIG        VNQ  \\\n",
       "Cumulative Return    1.038095  0.250000  0.052856   0.902034   1.207900   \n",
       "Annual Return        0.427619  0.118034  0.026088   0.379142   0.485901   \n",
       "Standard Deviation   0.010332  0.013069  0.014154   0.009007   0.013008   \n",
       "Sharpe Ratio        39.934359  7.883997  0.783353  40.428619  36.200814   \n",
       "\n",
       "                          LQD        EMB  \n",
       "Cumulative Return    0.389059   0.340849  \n",
       "Annual Return        0.178584   0.157950  \n",
       "Standard Deviation   0.003465   0.004714  \n",
       "Sharpe Ratio        47.214463  30.324192  "
      ]
     },
     "metadata": {},
     "output_type": "display_data"
    }
   ],
   "source": [
    "collection1={}\n",
    "for symbol in returns_df1_test.columns:\n",
    "    asset={}\n",
    "    asset['Cumulative Return']= ((returns_df1_test[symbol]+1).cumprod()-1)[-1]\n",
    "    asset['Annual Return']= np.sqrt(asset['Cumulative Return']+1)-1\n",
    "    asset['Standard Deviation']= returns_df1_test[symbol].std()\n",
    "    asset['Sharpe Ratio']= sharpe(asset['Annual Return'], asset['Standard Deviation'], Rf)\n",
    "    collection1[symbol]=asset \n",
    "coll1= pd.DataFrame(collection1, index=['Cumulative Return','Annual Return','Standard Deviation','Sharpe Ratio'], columns= returns_df1_test.columns )\n",
    "\n",
    "display(coll1)\n",
    "\n",
    "collection2={}\n",
    "for symbol in returns_df2_test.columns:\n",
    "    asset={}\n",
    "    asset['Cumulative Return']= ((returns_df2_test[symbol]+1).cumprod()-1)[-1]\n",
    "    asset['Annual Return']= np.sqrt(asset['Cumulative Return']+1)-1\n",
    "    asset['Standard Deviation']= returns_df2_test[symbol].std()\n",
    "    asset['Sharpe Ratio']= sharpe(asset['Annual Return'], asset['Standard Deviation'], Rf)\n",
    "    collection2[symbol]=asset \n",
    "coll2= pd.DataFrame(collection2, index=['Cumulative Return','Annual Return','Standard Deviation','Sharpe Ratio'], columns= returns_df2_test.columns)\n",
    "\n",
    "display(coll2)"
   ]
  },
  {
   "cell_type": "code",
   "execution_count": 59,
   "metadata": {
    "collapsed": false
   },
   "outputs": [
    {
     "data": {
      "text/html": [
       "<div>\n",
       "<table border=\"1\" class=\"dataframe\">\n",
       "  <thead>\n",
       "    <tr style=\"text-align: right;\">\n",
       "      <th></th>\n",
       "      <th>Portfolio 1 MVO</th>\n",
       "      <th>Portfolio 2 MVO</th>\n",
       "      <th>Portfolio 1 Black</th>\n",
       "      <th>Portfolio 2 Black</th>\n",
       "    </tr>\n",
       "  </thead>\n",
       "  <tbody>\n",
       "    <tr>\n",
       "      <th>Cumulative Return</th>\n",
       "      <td>0.967095</td>\n",
       "      <td>0.537405</td>\n",
       "      <td>0.799167</td>\n",
       "      <td>0.802187</td>\n",
       "    </tr>\n",
       "    <tr>\n",
       "      <th>Annual Return</th>\n",
       "      <td>0.402532</td>\n",
       "      <td>0.239921</td>\n",
       "      <td>0.341330</td>\n",
       "      <td>0.342456</td>\n",
       "    </tr>\n",
       "    <tr>\n",
       "      <th>Standard Deviation</th>\n",
       "      <td>0.009573</td>\n",
       "      <td>0.003372</td>\n",
       "      <td>0.010731</td>\n",
       "      <td>0.010182</td>\n",
       "    </tr>\n",
       "    <tr>\n",
       "      <th>Sharpe Ratio</th>\n",
       "      <td>40.483695</td>\n",
       "      <td>66.700966</td>\n",
       "      <td>30.411379</td>\n",
       "      <td>32.161208</td>\n",
       "    </tr>\n",
       "  </tbody>\n",
       "</table>\n",
       "</div>"
      ],
      "text/plain": [
       "                    Portfolio 1 MVO  Portfolio 2 MVO  Portfolio 1 Black  \\\n",
       "Cumulative Return          0.967095         0.537405           0.799167   \n",
       "Annual Return              0.402532         0.239921           0.341330   \n",
       "Standard Deviation         0.009573         0.003372           0.010731   \n",
       "Sharpe Ratio              40.483695        66.700966          30.411379   \n",
       "\n",
       "                    Portfolio 2 Black  \n",
       "Cumulative Return            0.802187  \n",
       "Annual Return                0.342456  \n",
       "Standard Deviation           0.010182  \n",
       "Sharpe Ratio                32.161208  "
      ]
     },
     "metadata": {},
     "output_type": "display_data"
    }
   ],
   "source": [
    "portfoliomvo1= {'Cumulative Return': cum_returns1_mvo['Returns'].iloc[-1], 'Annual Return': mvo_annual_return1, 'Standard Deviation': mvo_test_std1, 'Sharpe Ratio': mvo_test_sharpe1 }\n",
    "portfoliomvo2= {'Cumulative Return': cum_returns2_mvo['Returns'].iloc[-1], 'Annual Return': mvo_annual_return2, 'Standard Deviation': mvo_test_std2, 'Sharpe Ratio': mvo_test_sharpe2 }\n",
    "portfolioeq1={'Cumulative Return': cum_returns1_eq['Returns'].iloc[-1], 'Annual Return': eq_annual_return1, 'Standard Deviation': eq_test_std1, 'Sharpe Ratio': eq_test_sharpe1 }\n",
    "portfolioeq2={'Cumulative Return': cum_returns2_eq['Returns'].iloc[-1], 'Annual Return': eq_annual_return2, 'Standard Deviation': eq_test_std2, 'Sharpe Ratio': eq_test_sharpe2 }\n",
    "portcolls={'Portfolio 1 MVO': portfoliomvo1, 'Portfolio 2 MVO': portfoliomvo2, 'Portfolio 1 Black': portfolioeq1, 'Portfolio 2 Black': portfolioeq2}\n",
    "portcolls_df= pd.DataFrame(portcolls, index=['Cumulative Return','Annual Return','Standard Deviation','Sharpe Ratio'], columns=['Portfolio 1 MVO','Portfolio 2 MVO', 'Portfolio 1 Black', 'Portfolio 2 Black'])\n",
    "\n",
    "display(portcolls_df)"
   ]
  },
  {
   "cell_type": "markdown",
   "metadata": {},
   "source": [
    "This project takes inspiration from the following sources:\n",
    "\n",
    "http://www.quantandfinancial.com/2013/08/black-litterman.html\n",
    "https://github.com/omartinsky/QuantAndFinancial/blob/master/black_litterman/black_litterman.ipynb\n",
    "A STEP-BY-STEP GUIDE TO THE BLACK-LITTERMAN MODEL  http://valuestockselector.com/investingarticles/BlackLitterman.pdf\n",
    "https://research.wealthfront.com/whitepapers/investment-methodology/\n",
    "\n",
    "Certain code snippets were edited or copied from \n",
    "https://github.com/omartinsky/QuantAndFinancial/blob/master/black_litterman/black_litterman.ipynb\n",
    "\n"
   ]
  }
 ],
 "metadata": {
  "kernelspec": {
   "display_name": "Python 2",
   "language": "python",
   "name": "python2"
  },
  "language_info": {
   "codemirror_mode": {
    "name": "ipython",
    "version": 2
   },
   "file_extension": ".py",
   "mimetype": "text/x-python",
   "name": "python",
   "nbconvert_exporter": "python",
   "pygments_lexer": "ipython2",
   "version": "2.7.12"
  }
 },
 "nbformat": 4,
 "nbformat_minor": 2
}